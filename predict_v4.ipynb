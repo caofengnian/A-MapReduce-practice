{
  "nbformat": 4,
  "nbformat_minor": 0,
  "metadata": {
    "kernelspec": {
      "name": "python3",
      "display_name": "Python 3"
    },
    "language_info": {
      "codemirror_mode": {
        "name": "ipython",
        "version": 3
      },
      "file_extension": ".py",
      "mimetype": "text/x-python",
      "name": "python",
      "nbconvert_exporter": "python",
      "pygments_lexer": "ipython3",
      "version": "3.7.3"
    },
    "colab": {
      "name": "predict_v4.ipynb",
      "version": "0.3.2",
      "provenance": [],
      "collapsed_sections": [],
      "toc_visible": true,
      "machine_shape": "hm",
      "include_colab_link": true
    }
  },
  "cells": [
    {
      "cell_type": "markdown",
      "metadata": {
        "id": "view-in-github",
        "colab_type": "text"
      },
      "source": [
        "<a href=\"https://colab.research.google.com/github/caofengnian/A-MapReduce-practice/blob/master/predict_v4.ipynb\" target=\"_parent\"><img src=\"https://colab.research.google.com/assets/colab-badge.svg\" alt=\"Open In Colab\"/></a>"
      ]
    },
    {
      "cell_type": "code",
      "metadata": {
        "id": "Jkku3TEXIuYv",
        "colab_type": "code",
        "colab": {}
      },
      "source": [
        "import os\n",
        "import pandas as pd\n",
        "import numpy as np\n",
        "import seaborn as sns\n",
        "import matplotlib.pyplot as plt\n",
        "import warnings\n",
        "warnings.filterwarnings(\"ignore\")"
      ],
      "execution_count": 0,
      "outputs": []
    },
    {
      "cell_type": "code",
      "metadata": {
        "id": "MgRJt9UZKCrB",
        "colab_type": "code",
        "outputId": "353e5ebe-b703-423c-8f1f-1349e5ac42e7",
        "colab": {
          "base_uri": "https://localhost:8080/",
          "height": 122
        }
      },
      "source": [
        "from google.colab import drive\n",
        "drive.mount('/content/drive')"
      ],
      "execution_count": 2,
      "outputs": [
        {
          "output_type": "stream",
          "text": [
            "Go to this URL in a browser: https://accounts.google.com/o/oauth2/auth?client_id=947318989803-6bn6qk8qdgf4n4g3pfee6491hc0brc4i.apps.googleusercontent.com&redirect_uri=urn%3Aietf%3Awg%3Aoauth%3A2.0%3Aoob&scope=email%20https%3A%2F%2Fwww.googleapis.com%2Fauth%2Fdocs.test%20https%3A%2F%2Fwww.googleapis.com%2Fauth%2Fdrive%20https%3A%2F%2Fwww.googleapis.com%2Fauth%2Fdrive.photos.readonly%20https%3A%2F%2Fwww.googleapis.com%2Fauth%2Fpeopleapi.readonly&response_type=code\n",
            "\n",
            "Enter your authorization code:\n",
            "··········\n",
            "Mounted at /content/drive\n"
          ],
          "name": "stdout"
        }
      ]
    },
    {
      "cell_type": "markdown",
      "metadata": {
        "id": "LT3kth_4TvP9",
        "colab_type": "text"
      },
      "source": [
        "# Build and Train the model"
      ]
    },
    {
      "cell_type": "markdown",
      "metadata": {
        "id": "g7I7nFM6fPfw",
        "colab_type": "text"
      },
      "source": [
        "## Read training data"
      ]
    },
    {
      "cell_type": "code",
      "metadata": {
        "id": "Vjf8Ez2GfUkU",
        "colab_type": "code",
        "colab": {}
      },
      "source": [
        "dataset = '/content/drive/My Drive/safety/dprocessed.csv'\n",
        "data_train = pd.read_csv(dataset)"
      ],
      "execution_count": 0,
      "outputs": []
    },
    {
      "cell_type": "markdown",
      "metadata": {
        "id": "gJoifO2mD4hP",
        "colab_type": "text"
      },
      "source": [
        "## Split data\n",
        "* Different training data size may cause different results, but not as big as well. There is a suitable size.\n",
        "* ref: https://machinelearningmastery.com/impact-of-dataset-size-on-deep-learning-model-skill-and-performance-estimates/"
      ]
    },
    {
      "cell_type": "code",
      "metadata": {
        "id": "BlHRLhD_IGSO",
        "colab_type": "code",
        "colab": {}
      },
      "source": [
        "from sklearn.model_selection import train_test_split\n",
        "X = data_train.drop(['bookingID','label'],axis =1)\n",
        "y = data_train['label']\n",
        "# X = data_train.drop(['bookingID','label'], axis =1)\n",
        "# y = data_train['label']\n",
        "X_train, X_test, y_train, y_test = train_test_split(X, y, test_size=0.3, random_state = 23)"
      ],
      "execution_count": 0,
      "outputs": []
    },
    {
      "cell_type": "markdown",
      "metadata": {
        "id": "4sDR56jZEq4j",
        "colab_type": "text"
      },
      "source": [
        "## Balance the data (only training data)\n",
        "* The common data-sampling approaches for handling class imbalance include: Random Over-Sampling (ROS), Random Under-Sampling (RUS), and Synthetic Minority Over-Sampling Technique (SMOTE)\n",
        "ref: https://link.springer.com/article/10.1186/s40537-018-0151-6\n",
        "* Right way to balance data\n",
        "ref:https://beckernick.github.io/oversampling-modeling/\n",
        "* AUC is insensitive to imbalanced data we will not balance it."
      ]
    },
    {
      "cell_type": "code",
      "metadata": {
        "id": "YIKpxQddiBKN",
        "colab_type": "code",
        "outputId": "726d0f85-89c1-4384-ff4d-c12692310864",
        "colab": {
          "base_uri": "https://localhost:8080/",
          "height": 71
        }
      },
      "source": [
        "# from imblearn.combine import SMOTEENN\n",
        "# from imblearn.over_sampling import SMOTE\n",
        "\n",
        "# sm = SMOTE(random_state=42)\n",
        "# X_train_sm, y_train_sm = sm.fit_sample(X_train, y_train)"
      ],
      "execution_count": 0,
      "outputs": [
        {
          "output_type": "stream",
          "text": [
            "/usr/local/lib/python3.6/dist-packages/sklearn/externals/six.py:31: DeprecationWarning: The module is deprecated in version 0.21 and will be removed in version 0.23 since we've dropped support for Python 2.7. Please rely on the official version of six (https://pypi.org/project/six/).\n",
            "  \"(https://pypi.org/project/six/).\", DeprecationWarning)\n"
          ],
          "name": "stderr"
        }
      ]
    },
    {
      "cell_type": "code",
      "metadata": {
        "id": "FPeGVWx7Z2Oe",
        "colab_type": "code",
        "outputId": "ecc74d0d-aea7-42b8-b8d1-cf82c164762d",
        "colab": {
          "base_uri": "https://localhost:8080/",
          "height": 153
        }
      },
      "source": [
        "# print(\"Before OverSampling, counts of label '1': {}\".format(sum(y_train==1)))\n",
        "# print(\"Before OverSampling, counts of label '0': {} \\n\".format(sum(y_train==0)))\n",
        "\n",
        "\n",
        "# print('After OverSampling, the shape of train_X: {}'.format(X_train_sm.shape))\n",
        "# print('After OverSampling, the shape of train_y: {} \\n'.format(y_train_sm.shape))\n",
        "\n",
        "# print(\"After OverSampling, counts of label '1': {}\".format(sum(y_train_sm==1)))\n",
        "# print(\"After OverSampling, counts of label '0': {}\".format(sum(y_train_sm==0)))"
      ],
      "execution_count": 0,
      "outputs": [
        {
          "output_type": "stream",
          "text": [
            "Before OverSampling, counts of label '1': 6358\n",
            "Before OverSampling, counts of label '0': 14642 \n",
            "\n",
            "After OverSampling, the shape of train_X: (29284, 7)\n",
            "After OverSampling, the shape of train_y: (29284,) \n",
            "\n",
            "After OverSampling, counts of label '1': 14642\n",
            "After OverSampling, counts of label '0': 14642\n"
          ],
          "name": "stdout"
        }
      ]
    },
    {
      "cell_type": "code",
      "metadata": {
        "id": "gCluyW7fVyXk",
        "colab_type": "code",
        "colab": {}
      },
      "source": [
        "#X_train_smtr = pd.DataFrame({'Accuracy': X_train_sm[:, 0], 'Bearing': X_train_sm[:, 1], 'acceleration_x': X_train_sm[:, 2], 'acceleration_y': X_train_sm[:, 3], 'acceleration_z': X_train_sm[:, 4], 'gyro_x': X_train_sm[:, 5], 'gyro_y': X_train_sm[:, 6], 'gyro_z': X_train_sm[:, 7], 'second': X_train_sm[:, 8], 'Speed': X_train_sm[:, 9], 'acc': X_train_sm[:, 10], 'Magnitude': X_train_sm[:, 11], 'Bearing_turn': X_train_sm[:, 12], 'Distance': X_train_sm[:, 13], 'slope': X_train_sm[:, 14]})\n",
        "# X_train_smtr = pd.DataFrame({'second': X_train_sm[:, 0], 'Speed': X_train_sm[:, 1], 'acc': X_train_sm[:, 2], 'Magnitude': X_train_sm[:, 3], 'Bearing_turn': X_train_sm[:, 4], 'Distance': X_train_sm[:, 5], 'slope': X_train_sm[:, 6]})\n",
        "# y_train_smtr = pd.DataFrame({'label':y_train_sm})"
      ],
      "execution_count": 0,
      "outputs": []
    },
    {
      "cell_type": "markdown",
      "metadata": {
        "id": "DzZHrIHuJ5Jy",
        "colab_type": "text"
      },
      "source": [
        "##Modeling\n",
        "* choose classifier\n",
        "ref:https://www.kaggle.com/klaudiajankowska/binary-classification-methods-comparison#Table-of-Contents:"
      ]
    },
    {
      "cell_type": "markdown",
      "metadata": {
        "id": "0cV20fWbMnin",
        "colab_type": "text"
      },
      "source": [
        "### Without reduction"
      ]
    },
    {
      "cell_type": "code",
      "metadata": {
        "id": "sQax6h8MIhw_",
        "colab_type": "code",
        "colab": {}
      },
      "source": [
        "from sklearn import metrics\n",
        "from sklearn.metrics import classification_report\n",
        "from sklearn.metrics import confusion_matrix\n",
        "from sklearn.metrics import roc_auc_score, accuracy_score, precision_score, recall_score, f1_score\n",
        "from sklearn.preprocessing import binarize\n",
        "from sklearn.model_selection import cross_validate\n",
        "\n",
        "from sklearn.ensemble import RandomForestClassifier,GradientBoostingClassifier\n",
        "from sklearn.linear_model import LogisticRegression\n",
        "from sklearn.naive_bayes import GaussianNB\n",
        "from sklearn.tree import DecisionTreeClassifier\n",
        "from sklearn.ensemble import RandomForestRegressor, GradientBoostingRegressor\n",
        "from sklearn import svm\n",
        "from sklearn.discriminant_analysis import LinearDiscriminantAnalysis, QuadraticDiscriminantAnalysis\n",
        "\n",
        "import xgboost as XGBClassifier\n",
        "import xgboost as xgb\n",
        "from lightgbm import LGBMClassifier\n",
        "from sklearn.neighbors import KNeighborsClassifier\n"
      ],
      "execution_count": 0,
      "outputs": []
    },
    {
      "cell_type": "code",
      "metadata": {
        "id": "Z1nyDOYvG70f",
        "colab_type": "code",
        "colab": {}
      },
      "source": [
        "# from vecstack import stacking"
      ],
      "execution_count": 0,
      "outputs": []
    },
    {
      "cell_type": "code",
      "metadata": {
        "id": "3vxevICIJpoH",
        "colab_type": "code",
        "colab": {}
      },
      "source": [
        "#class_weights = class_weight.compute_class_weight('balanced',np.unique(y_train),y_train)\n",
        "log = LogisticRegression(random_state=53,n_jobs=-1)\n",
        "tree = DecisionTreeClassifier(max_depth = 4)\n",
        "lda = LinearDiscriminantAnalysis()\n",
        "qda = QuadraticDiscriminantAnalysis()\n",
        "rf = RandomForestClassifier(random_state=53, n_jobs=-1, n_estimators=100, max_depth=4)\n",
        "knn = KNeighborsClassifier()\n",
        "gnb = GaussianNB()\n",
        "gbc = GradientBoostingClassifier (random_state=53,n_estimators=100,learning_rate=0.05)\n",
        "lgb = LGBMClassifier(\n",
        "    n_jobs = -1,\n",
        "    max_depth = 4,\n",
        "    subsample = 1,\n",
        "    n_estimators = 100,\n",
        "    learning_rate = 0.1,\n",
        "    colsample_bytree = 1,\n",
        "    objective = 'binary',\n",
        "    boosting_type = 'gbdt')\n",
        "\n",
        "xgb_model = xgb.XGBClassifier (random_state=7, n_jobs=-1, learning_rate=0.02, \n",
        "                   n_estimators=100, max_depth=4)\n",
        "\n",
        "svm_clf = svm.SVC(probability=True)\n",
        "\n",
        "\n",
        "models = [log,tree,lda,qda,rf,knn,gnb,gbc,lgb,xgb_model,svm_clf]\n",
        "# S_train, S_test = stacking(models,X_train, y_train, X_test,   \n",
        "                          #  regression=False,mode='oof_pred_bag',needs_proba=False,\n",
        "                          #  metric=metrics.roc_auc_score,n_folds=4,stratified=True,\n",
        "                          #  shuffle=True,random_state=41)\n",
        "model_names = {rf:'RandomForest', gbc:'GradientBoostingClassifier', log:'LogisticRegression',\n",
        "               gnb:'GaussianNB', lgb:'LGBMClassifier', tree:'DecisionTreeClassifier',\n",
        "               xgb_model:'XGBClassifier',svm_clf:'SVM',lda:'LinearDiscriminantAnalysis',\n",
        "               qda:'QuadraticDiscriminantAnalysis',knn:'KNeighborsClassifier'}"
      ],
      "execution_count": 0,
      "outputs": []
    },
    {
      "cell_type": "code",
      "metadata": {
        "id": "GrFGsME4RxlE",
        "colab_type": "code",
        "outputId": "4a7d6f75-1203-4c60-c3bf-61494c6e9afa",
        "colab": {
          "base_uri": "https://localhost:8080/",
          "height": 391
        }
      },
      "source": [
        "model_scores={}\n",
        "scoring = ['accuracy', 'precision_macro', 'recall_macro' , 'f1_weighted', 'roc_auc']\n",
        "\n",
        "for clf_model in models:\n",
        "  scores = cross_validate(clf_model, X_train, y_train, scoring=scoring, cv=5, n_jobs=-1, verbose=2)\n",
        "  sorted(scores.keys())\n",
        "  model_scores[model_names[clf_model]] = [scores['fit_time'].mean(),scores['score_time'].mean(), scores['test_accuracy'].mean(),\n",
        "            scores['test_precision_macro'].mean(),scores['test_recall_macro'].mean(),\n",
        "            scores['test_f1_weighted'].mean(),scores['test_roc_auc'].mean()]"
      ],
      "execution_count": 7,
      "outputs": [
        {
          "output_type": "stream",
          "text": [
            "[Parallel(n_jobs=-1)]: Using backend LokyBackend with 4 concurrent workers.\n",
            "[Parallel(n_jobs=-1)]: Done   5 out of   5 | elapsed:    3.1s finished\n",
            "[Parallel(n_jobs=-1)]: Using backend LokyBackend with 4 concurrent workers.\n",
            "[Parallel(n_jobs=-1)]: Done   5 out of   5 | elapsed:    0.8s finished\n",
            "[Parallel(n_jobs=-1)]: Using backend LokyBackend with 4 concurrent workers.\n",
            "[Parallel(n_jobs=-1)]: Done   5 out of   5 | elapsed:    0.7s finished\n",
            "[Parallel(n_jobs=-1)]: Using backend LokyBackend with 4 concurrent workers.\n",
            "[Parallel(n_jobs=-1)]: Done   5 out of   5 | elapsed:    0.6s finished\n",
            "[Parallel(n_jobs=-1)]: Using backend LokyBackend with 4 concurrent workers.\n",
            "[Parallel(n_jobs=-1)]: Done   5 out of   5 | elapsed:    6.0s finished\n",
            "[Parallel(n_jobs=-1)]: Using backend LokyBackend with 4 concurrent workers.\n",
            "[Parallel(n_jobs=-1)]: Done   5 out of   5 | elapsed:    2.0s finished\n",
            "[Parallel(n_jobs=-1)]: Using backend LokyBackend with 4 concurrent workers.\n",
            "[Parallel(n_jobs=-1)]: Done   5 out of   5 | elapsed:    0.1s finished\n",
            "[Parallel(n_jobs=-1)]: Using backend LokyBackend with 4 concurrent workers.\n",
            "[Parallel(n_jobs=-1)]: Done   5 out of   5 | elapsed:   12.7s finished\n",
            "[Parallel(n_jobs=-1)]: Using backend LokyBackend with 4 concurrent workers.\n",
            "[Parallel(n_jobs=-1)]: Done   5 out of   5 | elapsed:    2.1s finished\n",
            "[Parallel(n_jobs=-1)]: Using backend LokyBackend with 4 concurrent workers.\n",
            "[Parallel(n_jobs=-1)]: Done   5 out of   5 | elapsed:   12.5s finished\n",
            "[Parallel(n_jobs=-1)]: Using backend LokyBackend with 4 concurrent workers.\n",
            "[Parallel(n_jobs=-1)]: Done   5 out of   5 | elapsed:  6.4min finished\n"
          ],
          "name": "stderr"
        }
      ]
    },
    {
      "cell_type": "code",
      "metadata": {
        "id": "WycSmkUlTgxH",
        "colab_type": "code",
        "outputId": "d66e8bc3-a397-4cd3-f2a4-ba5819ea42b0",
        "colab": {
          "base_uri": "https://localhost:8080/",
          "height": 427
        }
      },
      "source": [
        "model_scores = pd.DataFrame.from_dict(model_scores, orient= 'index', columns=['Fitting time', 'Scoring time','Accuracy','Precision','Recall','F1_score', 'AUC_ROC'])\n",
        "model_scores"
      ],
      "execution_count": 8,
      "outputs": [
        {
          "output_type": "execute_result",
          "data": {
            "text/html": [
              "<div>\n",
              "<style scoped>\n",
              "    .dataframe tbody tr th:only-of-type {\n",
              "        vertical-align: middle;\n",
              "    }\n",
              "\n",
              "    .dataframe tbody tr th {\n",
              "        vertical-align: top;\n",
              "    }\n",
              "\n",
              "    .dataframe thead th {\n",
              "        text-align: right;\n",
              "    }\n",
              "</style>\n",
              "<table border=\"1\" class=\"dataframe\">\n",
              "  <thead>\n",
              "    <tr style=\"text-align: right;\">\n",
              "      <th></th>\n",
              "      <th>Fitting time</th>\n",
              "      <th>Scoring time</th>\n",
              "      <th>Accuracy</th>\n",
              "      <th>Precision</th>\n",
              "      <th>Recall</th>\n",
              "      <th>F1_score</th>\n",
              "      <th>AUC_ROC</th>\n",
              "    </tr>\n",
              "  </thead>\n",
              "  <tbody>\n",
              "    <tr>\n",
              "      <th>LogisticRegression</th>\n",
              "      <td>0.577905</td>\n",
              "      <td>0.055273</td>\n",
              "      <td>0.773605</td>\n",
              "      <td>0.715060</td>\n",
              "      <td>0.567973</td>\n",
              "      <td>0.718630</td>\n",
              "      <td>0.693113</td>\n",
              "    </tr>\n",
              "    <tr>\n",
              "      <th>DecisionTreeClassifier</th>\n",
              "      <td>0.378034</td>\n",
              "      <td>0.018358</td>\n",
              "      <td>0.777641</td>\n",
              "      <td>0.740242</td>\n",
              "      <td>0.572138</td>\n",
              "      <td>0.722529</td>\n",
              "      <td>0.681648</td>\n",
              "    </tr>\n",
              "    <tr>\n",
              "      <th>LinearDiscriminantAnalysis</th>\n",
              "      <td>0.304998</td>\n",
              "      <td>0.063488</td>\n",
              "      <td>0.781462</td>\n",
              "      <td>0.723008</td>\n",
              "      <td>0.594480</td>\n",
              "      <td>0.739175</td>\n",
              "      <td>0.728081</td>\n",
              "    </tr>\n",
              "    <tr>\n",
              "      <th>QuadraticDiscriminantAnalysis</th>\n",
              "      <td>0.185153</td>\n",
              "      <td>0.124443</td>\n",
              "      <td>0.758397</td>\n",
              "      <td>0.654796</td>\n",
              "      <td>0.599223</td>\n",
              "      <td>0.732534</td>\n",
              "      <td>0.703908</td>\n",
              "    </tr>\n",
              "    <tr>\n",
              "      <th>RandomForest</th>\n",
              "      <td>3.259564</td>\n",
              "      <td>0.534276</td>\n",
              "      <td>0.780741</td>\n",
              "      <td>0.778164</td>\n",
              "      <td>0.566823</td>\n",
              "      <td>0.719064</td>\n",
              "      <td>0.708425</td>\n",
              "    </tr>\n",
              "    <tr>\n",
              "      <th>KNeighborsClassifier</th>\n",
              "      <td>0.059325</td>\n",
              "      <td>1.098890</td>\n",
              "      <td>0.726035</td>\n",
              "      <td>0.564224</td>\n",
              "      <td>0.532798</td>\n",
              "      <td>0.682733</td>\n",
              "      <td>0.565210</td>\n",
              "    </tr>\n",
              "    <tr>\n",
              "      <th>GaussianNB</th>\n",
              "      <td>0.023932</td>\n",
              "      <td>0.032175</td>\n",
              "      <td>0.736990</td>\n",
              "      <td>0.622383</td>\n",
              "      <td>0.593714</td>\n",
              "      <td>0.719928</td>\n",
              "      <td>0.643883</td>\n",
              "    </tr>\n",
              "    <tr>\n",
              "      <th>GradientBoostingClassifier</th>\n",
              "      <td>7.182204</td>\n",
              "      <td>0.056567</td>\n",
              "      <td>0.782831</td>\n",
              "      <td>0.756945</td>\n",
              "      <td>0.579457</td>\n",
              "      <td>0.729394</td>\n",
              "      <td>0.720798</td>\n",
              "    </tr>\n",
              "    <tr>\n",
              "      <th>LGBMClassifier</th>\n",
              "      <td>0.958825</td>\n",
              "      <td>0.189537</td>\n",
              "      <td>0.781967</td>\n",
              "      <td>0.739913</td>\n",
              "      <td>0.584958</td>\n",
              "      <td>0.733122</td>\n",
              "      <td>0.724346</td>\n",
              "    </tr>\n",
              "    <tr>\n",
              "      <th>XGBClassifier</th>\n",
              "      <td>6.963101</td>\n",
              "      <td>0.104412</td>\n",
              "      <td>0.781534</td>\n",
              "      <td>0.759716</td>\n",
              "      <td>0.574218</td>\n",
              "      <td>0.725124</td>\n",
              "      <td>0.716436</td>\n",
              "    </tr>\n",
              "    <tr>\n",
              "      <th>SVM</th>\n",
              "      <td>204.982723</td>\n",
              "      <td>16.781640</td>\n",
              "      <td>0.755226</td>\n",
              "      <td>0.377640</td>\n",
              "      <td>0.499952</td>\n",
              "      <td>0.649968</td>\n",
              "      <td>0.539188</td>\n",
              "    </tr>\n",
              "  </tbody>\n",
              "</table>\n",
              "</div>"
            ],
            "text/plain": [
              "                               Fitting time  Scoring time  ...  F1_score   AUC_ROC\n",
              "LogisticRegression                 0.577905      0.055273  ...  0.718630  0.693113\n",
              "DecisionTreeClassifier             0.378034      0.018358  ...  0.722529  0.681648\n",
              "LinearDiscriminantAnalysis         0.304998      0.063488  ...  0.739175  0.728081\n",
              "QuadraticDiscriminantAnalysis      0.185153      0.124443  ...  0.732534  0.703908\n",
              "RandomForest                       3.259564      0.534276  ...  0.719064  0.708425\n",
              "KNeighborsClassifier               0.059325      1.098890  ...  0.682733  0.565210\n",
              "GaussianNB                         0.023932      0.032175  ...  0.719928  0.643883\n",
              "GradientBoostingClassifier         7.182204      0.056567  ...  0.729394  0.720798\n",
              "LGBMClassifier                     0.958825      0.189537  ...  0.733122  0.724346\n",
              "XGBClassifier                      6.963101      0.104412  ...  0.725124  0.716436\n",
              "SVM                              204.982723     16.781640  ...  0.649968  0.539188\n",
              "\n",
              "[11 rows x 7 columns]"
            ]
          },
          "metadata": {
            "tags": []
          },
          "execution_count": 8
        }
      ]
    },
    {
      "cell_type": "code",
      "metadata": {
        "id": "lrJPsmlWKV8i",
        "colab_type": "code",
        "outputId": "6c899d8a-da52-4731-a8da-297a28ab8373",
        "colab": {
          "base_uri": "https://localhost:8080/",
          "height": 550
        }
      },
      "source": [
        "plt.figure(figsize=(10, 8))\n",
        "acc_auc={}\n",
        "# model = xgb.XGBClassifier (random_state=53, n_jobs=-1, learning_rate=0.05,n_estimators=100, max_depth=4)\n",
        "# model.fit(S_train,y_train)\n",
        "# y_pred = model.predict(S_test)\n",
        "# pred = model.predict_proba(S_test)[:,1]\n",
        "# stacked_acc = metrics.accuracy_score (y_test,y_pred)\n",
        "# stacked_auc = metrics.roc_auc_score(y_test,pred)\n",
        "# fpr, tpr, _ = metrics.roc_curve(y_test, pred)\n",
        "# plt.plot(fpr, tpr, color='b', label='Stacked ROC curve (area = %0.2f)' % stacked_auc)\n",
        "\n",
        "for clf_model in models:\n",
        "  clf_model.fit(X_train,y_train)\n",
        "  y_pred = clf_model.predict(X_test)\n",
        "  y_pred_proba = clf_model.predict_proba(X_test)[:,1]\n",
        "  #y_pred = binarize([pred], 0.7)[0]\n",
        "  #print(model_names[clf_model]+ 'training accuracy: ', metrics.accuracy_score(y_train_sm,clf_model.predict(X_train_sm)))\n",
        "  acc = metrics.accuracy_score(y_test,y_pred)\n",
        "  auc = metrics.roc_auc_score(y_test, y_pred_proba)\n",
        "  acc_auc[model_names[clf_model]] = [acc, auc]\n",
        "  fpr, tpr, _ = metrics.roc_curve(y_test, y_pred_proba)\n",
        "  plt.plot(fpr, tpr, label = model_names[clf_model] +' ROC curve (area = %0.2f)' % auc)\n",
        "\n",
        "\n",
        "\n",
        "plt.plot([0, 1], [0, 1], color='g', linestyle='--')\n",
        "plt.xlim([0.0, 1.0])\n",
        "plt.ylim([0.0, 1.05])\n",
        "plt.xlabel('False Positive Rate')\n",
        "plt.ylabel('True Positive Rate')\n",
        "plt.title('Receiver operating characteristic')\n",
        "\n",
        "plt.legend(loc=0)\n"
      ],
      "execution_count": 10,
      "outputs": [
        {
          "output_type": "execute_result",
          "data": {
            "text/plain": [
              "<matplotlib.legend.Legend at 0x7f81e1eeec50>"
            ]
          },
          "metadata": {
            "tags": []
          },
          "execution_count": 10
        },
        {
          "output_type": "display_data",
          "data": {
            "image/png": "[encoded data removed]",
            "text/plain": [
              "<Figure size 720x576 with 1 Axes>"
            ]
          },
          "metadata": {
            "tags": []
          }
        }
      ]
    },
    {
      "cell_type": "code",
      "metadata": {
        "id": "l_4BJgi5mHXz",
        "colab_type": "code",
        "outputId": "6d9e2fd6-e075-4382-d76c-c17ae5726c5b",
        "colab": {
          "base_uri": "https://localhost:8080/",
          "height": 390
        }
      },
      "source": [
        "acc_auc = pd.DataFrame.from_dict(acc_auc, orient= 'index', columns=['Accuracy','AUC'])\n",
        "acc_auc"
      ],
      "execution_count": 11,
      "outputs": [
        {
          "output_type": "execute_result",
          "data": {
            "text/html": [
              "<div>\n",
              "<style scoped>\n",
              "    .dataframe tbody tr th:only-of-type {\n",
              "        vertical-align: middle;\n",
              "    }\n",
              "\n",
              "    .dataframe tbody tr th {\n",
              "        vertical-align: top;\n",
              "    }\n",
              "\n",
              "    .dataframe thead th {\n",
              "        text-align: right;\n",
              "    }\n",
              "</style>\n",
              "<table border=\"1\" class=\"dataframe\">\n",
              "  <thead>\n",
              "    <tr style=\"text-align: right;\">\n",
              "      <th></th>\n",
              "      <th>Accuracy</th>\n",
              "      <th>AUC</th>\n",
              "    </tr>\n",
              "  </thead>\n",
              "  <tbody>\n",
              "    <tr>\n",
              "      <th>LogisticRegression</th>\n",
              "      <td>0.763074</td>\n",
              "      <td>0.703788</td>\n",
              "    </tr>\n",
              "    <tr>\n",
              "      <th>DecisionTreeClassifier</th>\n",
              "      <td>0.764923</td>\n",
              "      <td>0.688451</td>\n",
              "    </tr>\n",
              "    <tr>\n",
              "      <th>LinearDiscriminantAnalysis</th>\n",
              "      <td>0.770136</td>\n",
              "      <td>0.727813</td>\n",
              "    </tr>\n",
              "    <tr>\n",
              "      <th>QuadraticDiscriminantAnalysis</th>\n",
              "      <td>0.745922</td>\n",
              "      <td>0.705038</td>\n",
              "    </tr>\n",
              "    <tr>\n",
              "      <th>RandomForest</th>\n",
              "      <td>0.766101</td>\n",
              "      <td>0.702895</td>\n",
              "    </tr>\n",
              "    <tr>\n",
              "      <th>KNeighborsClassifier</th>\n",
              "      <td>0.713133</td>\n",
              "      <td>0.562330</td>\n",
              "    </tr>\n",
              "    <tr>\n",
              "      <th>GaussianNB</th>\n",
              "      <td>0.726753</td>\n",
              "      <td>0.639618</td>\n",
              "    </tr>\n",
              "    <tr>\n",
              "      <th>GradientBoostingClassifier</th>\n",
              "      <td>0.769464</td>\n",
              "      <td>0.724921</td>\n",
              "    </tr>\n",
              "    <tr>\n",
              "      <th>LGBMClassifier</th>\n",
              "      <td>0.770977</td>\n",
              "      <td>0.725766</td>\n",
              "    </tr>\n",
              "    <tr>\n",
              "      <th>XGBClassifier</th>\n",
              "      <td>0.769632</td>\n",
              "      <td>0.720022</td>\n",
              "    </tr>\n",
              "    <tr>\n",
              "      <th>SVM</th>\n",
              "      <td>0.740710</td>\n",
              "      <td>0.537042</td>\n",
              "    </tr>\n",
              "  </tbody>\n",
              "</table>\n",
              "</div>"
            ],
            "text/plain": [
              "                               Accuracy       AUC\n",
              "LogisticRegression             0.763074  0.703788\n",
              "DecisionTreeClassifier         0.764923  0.688451\n",
              "LinearDiscriminantAnalysis     0.770136  0.727813\n",
              "QuadraticDiscriminantAnalysis  0.745922  0.705038\n",
              "RandomForest                   0.766101  0.702895\n",
              "KNeighborsClassifier           0.713133  0.562330\n",
              "GaussianNB                     0.726753  0.639618\n",
              "GradientBoostingClassifier     0.769464  0.724921\n",
              "LGBMClassifier                 0.770977  0.725766\n",
              "XGBClassifier                  0.769632  0.720022\n",
              "SVM                            0.740710  0.537042"
            ]
          },
          "metadata": {
            "tags": []
          },
          "execution_count": 11
        }
      ]
    },
    {
      "cell_type": "code",
      "metadata": {
        "id": "B-ZLRI3ecmqB",
        "colab_type": "code",
        "outputId": "501808f1-2418-4aa9-bac2-0c3d9fa08234",
        "colab": {
          "base_uri": "https://localhost:8080/",
          "height": 170
        }
      },
      "source": [
        "print(classification_report(y_test, y_pred))"
      ],
      "execution_count": 12,
      "outputs": [
        {
          "output_type": "stream",
          "text": [
            "              precision    recall  f1-score   support\n",
            "\n",
            "           0       0.74      1.00      0.85      4405\n",
            "           1       0.00      0.00      0.00      1542\n",
            "\n",
            "    accuracy                           0.74      5947\n",
            "   macro avg       0.37      0.50      0.43      5947\n",
            "weighted avg       0.55      0.74      0.63      5947\n",
            "\n"
          ],
          "name": "stdout"
        }
      ]
    },
    {
      "cell_type": "markdown",
      "metadata": {
        "id": "2vSabL_Ry7uu",
        "colab_type": "text"
      },
      "source": [
        "![alt text](https://i.stack.imgur.com/U0hjG.png)\n",
        "\n",
        "ref: https://towardsdatascience.com/metrics-to-evaluate-your-machine-learning-algorithm-f10ba6e38234"
      ]
    },
    {
      "cell_type": "code",
      "metadata": {
        "id": "ZFv4xASqc5Ia",
        "colab_type": "code",
        "outputId": "b44055ad-cb4a-4bd4-e486-58d226dfcab5",
        "colab": {
          "base_uri": "https://localhost:8080/",
          "height": 421
        }
      },
      "source": [
        "plt.figure()\n",
        "cm = confusion_matrix(y_test, y_pred)\n",
        "labels = ['1', '0']\n",
        "plt.figure(figsize=(8,6))\n",
        "sns.heatmap(cm, xticklabels = labels, yticklabels = labels, annot = True, fmt='d', cmap=\"Blues\", vmin = 0.2);\n",
        "plt.title('Confusion Matrix')\n",
        "plt.ylabel('True Class')\n",
        "plt.xlabel('Predicted Class')\n",
        "plt.show()"
      ],
      "execution_count": 0,
      "outputs": [
        {
          "output_type": "display_data",
          "data": {
            "text/plain": [
              "<Figure size 432x288 with 0 Axes>"
            ]
          },
          "metadata": {
            "tags": []
          }
        },
        {
          "output_type": "display_data",
          "data": {
            "image/png": "[encoded data removed]",
            "text/plain": [
              "<Figure size 576x432 with 2 Axes>"
            ]
          },
          "metadata": {
            "tags": []
          }
        }
      ]
    },
    {
      "cell_type": "markdown",
      "metadata": {
        "id": "duM75ECA4EuF",
        "colab_type": "text"
      },
      "source": [
        "### Hyperparameter tuning (GridSearchCV)\n",
        "\n",
        "ref : https://towardsdatascience.com/hyperparameter-tuning-the-random-forest-in-python-using-scikit-learn-28d2aa77dd74"
      ]
    },
    {
      "cell_type": "code",
      "metadata": {
        "id": "wuio-6eZ5xIM",
        "colab_type": "code",
        "outputId": "569348b1-27ca-452d-ed47-ec537008277a",
        "colab": {
          "base_uri": "https://localhost:8080/",
          "height": 51
        }
      },
      "source": [
        "from sklearn.model_selection import RandomizedSearchCV\n",
        "from sklearn.model_selection import GridSearchCV\n",
        "\n",
        "from pprint import pprint\n",
        "\n",
        "# Number of trees in random forest\n",
        "n_estimators = [int(x) for x in np.linspace(start = 100, stop = 2000, num = 5)]\n",
        "# Maximum number of levels in tree\n",
        "max_depth = [int(x) for x in np.linspace(2, 110, num = 5)]\n",
        "max_depth.append(None)\n",
        "# Create the random grid\n",
        "random_grid = {'n_estimators': n_estimators,\n",
        "               'max_depth': max_depth}\n",
        "pprint(random_grid)"
      ],
      "execution_count": 0,
      "outputs": [
        {
          "output_type": "stream",
          "text": [
            "{'max_depth': [2, 29, 56, 83, 110, None],\n",
            " 'n_estimators': [100, 575, 1050, 1525, 2000]}\n"
          ],
          "name": "stdout"
        }
      ]
    },
    {
      "cell_type": "code",
      "metadata": {
        "id": "dqA7Xces6BeI",
        "colab_type": "code",
        "outputId": "2a2b9386-1a90-41d3-c96a-6ce3560bd0ea",
        "colab": {
          "base_uri": "https://localhost:8080/",
          "height": 411
        }
      },
      "source": [
        "rf = RandomForestClassifier()\n",
        "#rf_random = RandomizedSearchCV(estimator = rf, param_distributions = random_grid, cv = 3, verbose=1, random_state=42, n_jobs = -1)\n",
        "rf_clf = GridSearchCV(rf, random_grid, cv=5, verbose=5, n_jobs=-1)\n",
        "rf_clf.fit(X_train_sm, y_train_sm)"
      ],
      "execution_count": 0,
      "outputs": [
        {
          "output_type": "stream",
          "text": [
            "Fitting 5 folds for each of 30 candidates, totalling 150 fits\n"
          ],
          "name": "stdout"
        },
        {
          "output_type": "stream",
          "text": [
            "[Parallel(n_jobs=-1)]: Using backend LokyBackend with 4 concurrent workers.\n",
            "[Parallel(n_jobs=-1)]: Done  10 tasks      | elapsed:   22.4s\n"
          ],
          "name": "stderr"
        },
        {
          "output_type": "error",
          "ename": "KeyboardInterrupt",
          "evalue": "ignored",
          "traceback": [
            "\u001b[0;31m---------------------------------------------------------------------------\u001b[0m",
            "\u001b[0;31mKeyboardInterrupt\u001b[0m                         Traceback (most recent call last)",
            "\u001b[0;32m<ipython-input-91-58bea680044e>\u001b[0m in \u001b[0;36m<module>\u001b[0;34m()\u001b[0m\n\u001b[1;32m      2\u001b[0m \u001b[0;31m#rf_random = RandomizedSearchCV(estimator = rf, param_distributions = random_grid, cv = 3, verbose=1, random_state=42, n_jobs = -1)\u001b[0m\u001b[0;34m\u001b[0m\u001b[0;34m\u001b[0m\u001b[0;34m\u001b[0m\u001b[0m\n\u001b[1;32m      3\u001b[0m \u001b[0mrf_clf\u001b[0m \u001b[0;34m=\u001b[0m \u001b[0mGridSearchCV\u001b[0m\u001b[0;34m(\u001b[0m\u001b[0mrf\u001b[0m\u001b[0;34m,\u001b[0m \u001b[0mrandom_grid\u001b[0m\u001b[0;34m,\u001b[0m \u001b[0mcv\u001b[0m\u001b[0;34m=\u001b[0m\u001b[0;36m5\u001b[0m\u001b[0;34m,\u001b[0m \u001b[0mverbose\u001b[0m\u001b[0;34m=\u001b[0m\u001b[0;36m5\u001b[0m\u001b[0;34m,\u001b[0m \u001b[0mn_jobs\u001b[0m\u001b[0;34m=\u001b[0m\u001b[0;34m-\u001b[0m\u001b[0;36m1\u001b[0m\u001b[0;34m)\u001b[0m\u001b[0;34m\u001b[0m\u001b[0;34m\u001b[0m\u001b[0m\n\u001b[0;32m----> 4\u001b[0;31m \u001b[0mrf_clf\u001b[0m\u001b[0;34m.\u001b[0m\u001b[0mfit\u001b[0m\u001b[0;34m(\u001b[0m\u001b[0mX_train_sm\u001b[0m\u001b[0;34m,\u001b[0m \u001b[0my_train_sm\u001b[0m\u001b[0;34m)\u001b[0m\u001b[0;34m\u001b[0m\u001b[0;34m\u001b[0m\u001b[0m\n\u001b[0m",
            "\u001b[0;32m/usr/local/lib/python3.6/dist-packages/sklearn/model_selection/_search.py\u001b[0m in \u001b[0;36mfit\u001b[0;34m(self, X, y, groups, **fit_params)\u001b[0m\n\u001b[1;32m    686\u001b[0m                 \u001b[0;32mreturn\u001b[0m \u001b[0mresults\u001b[0m\u001b[0;34m\u001b[0m\u001b[0;34m\u001b[0m\u001b[0m\n\u001b[1;32m    687\u001b[0m \u001b[0;34m\u001b[0m\u001b[0m\n\u001b[0;32m--> 688\u001b[0;31m             \u001b[0mself\u001b[0m\u001b[0;34m.\u001b[0m\u001b[0m_run_search\u001b[0m\u001b[0;34m(\u001b[0m\u001b[0mevaluate_candidates\u001b[0m\u001b[0;34m)\u001b[0m\u001b[0;34m\u001b[0m\u001b[0;34m\u001b[0m\u001b[0m\n\u001b[0m\u001b[1;32m    689\u001b[0m \u001b[0;34m\u001b[0m\u001b[0m\n\u001b[1;32m    690\u001b[0m         \u001b[0;31m# For multi-metric evaluation, store the best_index_, best_params_ and\u001b[0m\u001b[0;34m\u001b[0m\u001b[0;34m\u001b[0m\u001b[0;34m\u001b[0m\u001b[0m\n",
            "\u001b[0;32m/usr/local/lib/python3.6/dist-packages/sklearn/model_selection/_search.py\u001b[0m in \u001b[0;36m_run_search\u001b[0;34m(self, evaluate_candidates)\u001b[0m\n\u001b[1;32m   1147\u001b[0m     \u001b[0;32mdef\u001b[0m \u001b[0m_run_search\u001b[0m\u001b[0;34m(\u001b[0m\u001b[0mself\u001b[0m\u001b[0;34m,\u001b[0m \u001b[0mevaluate_candidates\u001b[0m\u001b[0;34m)\u001b[0m\u001b[0;34m:\u001b[0m\u001b[0;34m\u001b[0m\u001b[0;34m\u001b[0m\u001b[0m\n\u001b[1;32m   1148\u001b[0m         \u001b[0;34m\"\"\"Search all candidates in param_grid\"\"\"\u001b[0m\u001b[0;34m\u001b[0m\u001b[0;34m\u001b[0m\u001b[0m\n\u001b[0;32m-> 1149\u001b[0;31m         \u001b[0mevaluate_candidates\u001b[0m\u001b[0;34m(\u001b[0m\u001b[0mParameterGrid\u001b[0m\u001b[0;34m(\u001b[0m\u001b[0mself\u001b[0m\u001b[0;34m.\u001b[0m\u001b[0mparam_grid\u001b[0m\u001b[0;34m)\u001b[0m\u001b[0;34m)\u001b[0m\u001b[0;34m\u001b[0m\u001b[0;34m\u001b[0m\u001b[0m\n\u001b[0m\u001b[1;32m   1150\u001b[0m \u001b[0;34m\u001b[0m\u001b[0m\n\u001b[1;32m   1151\u001b[0m \u001b[0;34m\u001b[0m\u001b[0m\n",
            "\u001b[0;32m/usr/local/lib/python3.6/dist-packages/sklearn/model_selection/_search.py\u001b[0m in \u001b[0;36mevaluate_candidates\u001b[0;34m(candidate_params)\u001b[0m\n\u001b[1;32m    665\u001b[0m                                \u001b[0;32mfor\u001b[0m \u001b[0mparameters\u001b[0m\u001b[0;34m,\u001b[0m \u001b[0;34m(\u001b[0m\u001b[0mtrain\u001b[0m\u001b[0;34m,\u001b[0m \u001b[0mtest\u001b[0m\u001b[0;34m)\u001b[0m\u001b[0;34m\u001b[0m\u001b[0;34m\u001b[0m\u001b[0m\n\u001b[1;32m    666\u001b[0m                                in product(candidate_params,\n\u001b[0;32m--> 667\u001b[0;31m                                           cv.split(X, y, groups)))\n\u001b[0m\u001b[1;32m    668\u001b[0m \u001b[0;34m\u001b[0m\u001b[0m\n\u001b[1;32m    669\u001b[0m                 \u001b[0;32mif\u001b[0m \u001b[0mlen\u001b[0m\u001b[0;34m(\u001b[0m\u001b[0mout\u001b[0m\u001b[0;34m)\u001b[0m \u001b[0;34m<\u001b[0m \u001b[0;36m1\u001b[0m\u001b[0;34m:\u001b[0m\u001b[0;34m\u001b[0m\u001b[0;34m\u001b[0m\u001b[0m\n",
            "\u001b[0;32m/usr/local/lib/python3.6/dist-packages/joblib/parallel.py\u001b[0m in \u001b[0;36m__call__\u001b[0;34m(self, iterable)\u001b[0m\n\u001b[1;32m    932\u001b[0m \u001b[0;34m\u001b[0m\u001b[0m\n\u001b[1;32m    933\u001b[0m             \u001b[0;32mwith\u001b[0m \u001b[0mself\u001b[0m\u001b[0;34m.\u001b[0m\u001b[0m_backend\u001b[0m\u001b[0;34m.\u001b[0m\u001b[0mretrieval_context\u001b[0m\u001b[0;34m(\u001b[0m\u001b[0;34m)\u001b[0m\u001b[0;34m:\u001b[0m\u001b[0;34m\u001b[0m\u001b[0;34m\u001b[0m\u001b[0m\n\u001b[0;32m--> 934\u001b[0;31m                 \u001b[0mself\u001b[0m\u001b[0;34m.\u001b[0m\u001b[0mretrieve\u001b[0m\u001b[0;34m(\u001b[0m\u001b[0;34m)\u001b[0m\u001b[0;34m\u001b[0m\u001b[0;34m\u001b[0m\u001b[0m\n\u001b[0m\u001b[1;32m    935\u001b[0m             \u001b[0;31m# Make sure that we get a last message telling us we are done\u001b[0m\u001b[0;34m\u001b[0m\u001b[0;34m\u001b[0m\u001b[0;34m\u001b[0m\u001b[0m\n\u001b[1;32m    936\u001b[0m             \u001b[0melapsed_time\u001b[0m \u001b[0;34m=\u001b[0m \u001b[0mtime\u001b[0m\u001b[0;34m.\u001b[0m\u001b[0mtime\u001b[0m\u001b[0;34m(\u001b[0m\u001b[0;34m)\u001b[0m \u001b[0;34m-\u001b[0m \u001b[0mself\u001b[0m\u001b[0;34m.\u001b[0m\u001b[0m_start_time\u001b[0m\u001b[0;34m\u001b[0m\u001b[0;34m\u001b[0m\u001b[0m\n",
            "\u001b[0;32m/usr/local/lib/python3.6/dist-packages/joblib/parallel.py\u001b[0m in \u001b[0;36mretrieve\u001b[0;34m(self)\u001b[0m\n\u001b[1;32m    831\u001b[0m             \u001b[0;32mtry\u001b[0m\u001b[0;34m:\u001b[0m\u001b[0;34m\u001b[0m\u001b[0;34m\u001b[0m\u001b[0m\n\u001b[1;32m    832\u001b[0m                 \u001b[0;32mif\u001b[0m \u001b[0mgetattr\u001b[0m\u001b[0;34m(\u001b[0m\u001b[0mself\u001b[0m\u001b[0;34m.\u001b[0m\u001b[0m_backend\u001b[0m\u001b[0;34m,\u001b[0m \u001b[0;34m'supports_timeout'\u001b[0m\u001b[0;34m,\u001b[0m \u001b[0;32mFalse\u001b[0m\u001b[0;34m)\u001b[0m\u001b[0;34m:\u001b[0m\u001b[0;34m\u001b[0m\u001b[0;34m\u001b[0m\u001b[0m\n\u001b[0;32m--> 833\u001b[0;31m                     \u001b[0mself\u001b[0m\u001b[0;34m.\u001b[0m\u001b[0m_output\u001b[0m\u001b[0;34m.\u001b[0m\u001b[0mextend\u001b[0m\u001b[0;34m(\u001b[0m\u001b[0mjob\u001b[0m\u001b[0;34m.\u001b[0m\u001b[0mget\u001b[0m\u001b[0;34m(\u001b[0m\u001b[0mtimeout\u001b[0m\u001b[0;34m=\u001b[0m\u001b[0mself\u001b[0m\u001b[0;34m.\u001b[0m\u001b[0mtimeout\u001b[0m\u001b[0;34m)\u001b[0m\u001b[0;34m)\u001b[0m\u001b[0;34m\u001b[0m\u001b[0;34m\u001b[0m\u001b[0m\n\u001b[0m\u001b[1;32m    834\u001b[0m                 \u001b[0;32melse\u001b[0m\u001b[0;34m:\u001b[0m\u001b[0;34m\u001b[0m\u001b[0;34m\u001b[0m\u001b[0m\n\u001b[1;32m    835\u001b[0m                     \u001b[0mself\u001b[0m\u001b[0;34m.\u001b[0m\u001b[0m_output\u001b[0m\u001b[0;34m.\u001b[0m\u001b[0mextend\u001b[0m\u001b[0;34m(\u001b[0m\u001b[0mjob\u001b[0m\u001b[0;34m.\u001b[0m\u001b[0mget\u001b[0m\u001b[0;34m(\u001b[0m\u001b[0;34m)\u001b[0m\u001b[0;34m)\u001b[0m\u001b[0;34m\u001b[0m\u001b[0;34m\u001b[0m\u001b[0m\n",
            "\u001b[0;32m/usr/local/lib/python3.6/dist-packages/joblib/_parallel_backends.py\u001b[0m in \u001b[0;36mwrap_future_result\u001b[0;34m(future, timeout)\u001b[0m\n\u001b[1;32m    519\u001b[0m         AsyncResults.get from multiprocessing.\"\"\"\n\u001b[1;32m    520\u001b[0m         \u001b[0;32mtry\u001b[0m\u001b[0;34m:\u001b[0m\u001b[0;34m\u001b[0m\u001b[0;34m\u001b[0m\u001b[0m\n\u001b[0;32m--> 521\u001b[0;31m             \u001b[0;32mreturn\u001b[0m \u001b[0mfuture\u001b[0m\u001b[0;34m.\u001b[0m\u001b[0mresult\u001b[0m\u001b[0;34m(\u001b[0m\u001b[0mtimeout\u001b[0m\u001b[0;34m=\u001b[0m\u001b[0mtimeout\u001b[0m\u001b[0;34m)\u001b[0m\u001b[0;34m\u001b[0m\u001b[0;34m\u001b[0m\u001b[0m\n\u001b[0m\u001b[1;32m    522\u001b[0m         \u001b[0;32mexcept\u001b[0m \u001b[0mLokyTimeoutError\u001b[0m\u001b[0;34m:\u001b[0m\u001b[0;34m\u001b[0m\u001b[0;34m\u001b[0m\u001b[0m\n\u001b[1;32m    523\u001b[0m             \u001b[0;32mraise\u001b[0m \u001b[0mTimeoutError\u001b[0m\u001b[0;34m(\u001b[0m\u001b[0;34m)\u001b[0m\u001b[0;34m\u001b[0m\u001b[0;34m\u001b[0m\u001b[0m\n",
            "\u001b[0;32m/usr/lib/python3.6/concurrent/futures/_base.py\u001b[0m in \u001b[0;36mresult\u001b[0;34m(self, timeout)\u001b[0m\n\u001b[1;32m    425\u001b[0m                 \u001b[0;32mreturn\u001b[0m \u001b[0mself\u001b[0m\u001b[0;34m.\u001b[0m\u001b[0m__get_result\u001b[0m\u001b[0;34m(\u001b[0m\u001b[0;34m)\u001b[0m\u001b[0;34m\u001b[0m\u001b[0;34m\u001b[0m\u001b[0m\n\u001b[1;32m    426\u001b[0m \u001b[0;34m\u001b[0m\u001b[0m\n\u001b[0;32m--> 427\u001b[0;31m             \u001b[0mself\u001b[0m\u001b[0;34m.\u001b[0m\u001b[0m_condition\u001b[0m\u001b[0;34m.\u001b[0m\u001b[0mwait\u001b[0m\u001b[0;34m(\u001b[0m\u001b[0mtimeout\u001b[0m\u001b[0;34m)\u001b[0m\u001b[0;34m\u001b[0m\u001b[0;34m\u001b[0m\u001b[0m\n\u001b[0m\u001b[1;32m    428\u001b[0m \u001b[0;34m\u001b[0m\u001b[0m\n\u001b[1;32m    429\u001b[0m             \u001b[0;32mif\u001b[0m \u001b[0mself\u001b[0m\u001b[0;34m.\u001b[0m\u001b[0m_state\u001b[0m \u001b[0;32min\u001b[0m \u001b[0;34m[\u001b[0m\u001b[0mCANCELLED\u001b[0m\u001b[0;34m,\u001b[0m \u001b[0mCANCELLED_AND_NOTIFIED\u001b[0m\u001b[0;34m]\u001b[0m\u001b[0;34m:\u001b[0m\u001b[0;34m\u001b[0m\u001b[0;34m\u001b[0m\u001b[0m\n",
            "\u001b[0;32m/usr/lib/python3.6/threading.py\u001b[0m in \u001b[0;36mwait\u001b[0;34m(self, timeout)\u001b[0m\n\u001b[1;32m    293\u001b[0m         \u001b[0;32mtry\u001b[0m\u001b[0;34m:\u001b[0m    \u001b[0;31m# restore state no matter what (e.g., KeyboardInterrupt)\u001b[0m\u001b[0;34m\u001b[0m\u001b[0;34m\u001b[0m\u001b[0m\n\u001b[1;32m    294\u001b[0m             \u001b[0;32mif\u001b[0m \u001b[0mtimeout\u001b[0m \u001b[0;32mis\u001b[0m \u001b[0;32mNone\u001b[0m\u001b[0;34m:\u001b[0m\u001b[0;34m\u001b[0m\u001b[0;34m\u001b[0m\u001b[0m\n\u001b[0;32m--> 295\u001b[0;31m                 \u001b[0mwaiter\u001b[0m\u001b[0;34m.\u001b[0m\u001b[0macquire\u001b[0m\u001b[0;34m(\u001b[0m\u001b[0;34m)\u001b[0m\u001b[0;34m\u001b[0m\u001b[0;34m\u001b[0m\u001b[0m\n\u001b[0m\u001b[1;32m    296\u001b[0m                 \u001b[0mgotit\u001b[0m \u001b[0;34m=\u001b[0m \u001b[0;32mTrue\u001b[0m\u001b[0;34m\u001b[0m\u001b[0;34m\u001b[0m\u001b[0m\n\u001b[1;32m    297\u001b[0m             \u001b[0;32melse\u001b[0m\u001b[0;34m:\u001b[0m\u001b[0;34m\u001b[0m\u001b[0;34m\u001b[0m\u001b[0m\n",
            "\u001b[0;31mKeyboardInterrupt\u001b[0m: "
          ]
        }
      ]
    },
    {
      "cell_type": "markdown",
      "metadata": {
        "id": "0YaXDAX5JnrQ",
        "colab_type": "text"
      },
      "source": [
        "\n",
        "\n",
        "---\n",
        "\n"
      ]
    },
    {
      "cell_type": "markdown",
      "metadata": {
        "id": "nlaLClwrETSA",
        "colab_type": "text"
      },
      "source": [
        "# Ensemble\n",
        "* (1) reduce features by feature importance\n",
        "* (2) ensemble features with different classifier"
      ]
    },
    {
      "cell_type": "code",
      "metadata": {
        "id": "3pa5G56rZUmk",
        "colab_type": "code",
        "colab": {}
      },
      "source": [
        "from sklearn.base import BaseEstimator, TransformerMixin, RegressorMixin,clone\n",
        "from sklearn.model_selection import KFold\n",
        "class AveragingModels(BaseEstimator, RegressorMixin, TransformerMixin):\n",
        "    def __init__(self, models,weights):\n",
        "        self.models = models\n",
        "        self.weights = np.array(weights)\n",
        "    def fit(self, X, y):\n",
        "        self.models_ = [clone(x) for x in self.models]\n",
        "        for model in self.models_:\n",
        "             model.fit(X,y)\n",
        "        return self\n",
        "    def predict(self,X):\n",
        "        predictions = np.column_stack([model.predict(X) for model in self.models_])\n",
        "        return np.sum(self.weights*predictions, axis=1)"
      ],
      "execution_count": 0,
      "outputs": []
    },
    {
      "cell_type": "code",
      "metadata": {
        "id": "In-hsE65ZtFA",
        "colab_type": "code",
        "colab": {}
      },
      "source": [
        "aver_model = AveragingModels(models=(model,gbc,rf,log,gnb),weights=(0.6,0.1,0.2,0.05,0.05))"
      ],
      "execution_count": 0,
      "outputs": []
    },
    {
      "cell_type": "markdown",
      "metadata": {
        "id": "tGGQrqCHfBFv",
        "colab_type": "text"
      },
      "source": [
        "### Deep learning (Neural Networks)"
      ]
    },
    {
      "cell_type": "code",
      "metadata": {
        "id": "LTA0XZEZlar_",
        "colab_type": "code",
        "colab": {}
      },
      "source": [
        "data_keras = data_train\n",
        "X_keras = data_keras.drop(['bookingID','label'], axis =1)\n",
        "y_keras = data_keras['label']\n",
        "X_train, X_test, y_train, y_test = train_test_split(X_keras,y_keras, test_size=0.2, random_state = 23)"
      ],
      "execution_count": 0,
      "outputs": []
    },
    {
      "cell_type": "code",
      "metadata": {
        "id": "nJWiiucAfEX2",
        "colab_type": "code",
        "outputId": "598516b5-c07d-4c6a-ac48-43f181d39eb3",
        "colab": {
          "base_uri": "https://localhost:8080/",
          "height": 224
        }
      },
      "source": [
        "import keras\n",
        "from keras import backend as K\n",
        "\n",
        "from keras.preprocessing import sequence\n",
        "from keras.models import Sequential\n",
        "from keras.layers import Dense, Dropout, Activation\n",
        "from keras.layers import Embedding\n",
        "from keras.layers import Conv1D, GlobalMaxPooling1D\n",
        "from keras.datasets import imdb\n",
        "from sklearn.utils import class_weight\n",
        "from keras import optimizers\n",
        "max_features = 360\n",
        "maxlen = 15\n",
        "batch_size = 10\n",
        "embedding_dims = 50\n",
        "filters = 100\n",
        "kernel_size = 3\n",
        "hidden_dims = 250\n",
        "epochs = 4\n",
        "\n",
        "def dice_coef(y_true, y_pred, smooth=1):\n",
        "    y_true_f = K.flatten(y_true)\n",
        "    y_pred_f = K.flatten(y_pred)\n",
        "    intersection = K.sum(y_true_f * y_pred_f)\n",
        "    return (2. * intersection + smooth) / (K.sum(y_true_f) + K.sum(y_pred_f) + smooth)\n",
        "\n",
        "def dice_coef_loss(y_true, y_pred):\n",
        "    return -dice_coef(y_true, y_pred)\n",
        "\n",
        "\n",
        "#X_train = sequence.pad_sequences(X_train, maxlen=maxlen)\n",
        "#X_test = sequence.pad_sequences(X_test, maxlen=maxlen)\n",
        "class_weights = class_weight.compute_class_weight('balanced',np.unique(y_train),y_train)\n",
        "\n",
        "model = Sequential()\n",
        "\n",
        "model.add(Embedding(max_features,\n",
        "                    embedding_dims,\n",
        "                    input_length=maxlen))\n",
        "model.add(Dropout(0.2))\n",
        "\n",
        "# add a Convolution1D, which will learn filters\n",
        "# word group filters of size filter_length:\n",
        "model.add(Conv1D(filters,\n",
        "                 kernel_size,\n",
        "                 padding='valid',\n",
        "                 activation='relu',\n",
        "                 strides=1))\n",
        "# use max pooling:\n",
        "model.add(GlobalMaxPooling1D())\n",
        "\n",
        "# add a vanilla hidden layer:\n",
        "model.add(Dense(hidden_dims))\n",
        "model.add(Dropout(0.2))\n",
        "model.add(Activation('relu'))\n",
        "\n",
        "# project onto a single unit output layer, and squash it with a sigmoid:\n",
        "model.add(Dense(1))\n",
        "model.add(Activation('sigmoid'))\n",
        "model.add(Dense(30, input_dim=k, init='uniform', activation='relu'))\n",
        "model.add(Dense(15, init='uniform', activation='relu'))\n",
        "model.add(Dense(1, init='uniform', activation='sigmoid'))\n",
        "\n",
        "\n",
        "opt = optimizers.adam(lr = 0.006, beta_1 = 0.9, beta_2 = 0.999, clipnorm = 1. , epsilon= 1e-08)\n",
        "model.compile(loss=dice_coef,\n",
        "              optimizer= opt,\n",
        "              metrics=['accuracy'])\n",
        "model.fit(X_train, y_train,\n",
        "          batch_size=batch_size,\n",
        "          class_weight = class_weights,\n",
        "          epochs=epochs,\n",
        "          validation_data=(X_test, y_test))\n",
        "print(model.evaluate(X_test, y_test))"
      ],
      "execution_count": 0,
      "outputs": [
        {
          "output_type": "stream",
          "text": [
            "Train on 19200 samples, validate on 4800 samples\n",
            "Epoch 1/4\n",
            "19200/19200 [==============================] - 15s 785us/step - loss: 0.2973 - acc: 0.6964 - val_loss: 0.2924 - val_acc: 0.7002\n",
            "Epoch 2/4\n",
            "19200/19200 [==============================] - 14s 720us/step - loss: 0.2940 - acc: 0.6964 - val_loss: 0.2924 - val_acc: 0.7002\n",
            "Epoch 3/4\n",
            "19200/19200 [==============================] - 14s 721us/step - loss: 0.2923 - acc: 0.6964 - val_loss: 0.2924 - val_acc: 0.7002\n",
            "Epoch 4/4\n",
            "19200/19200 [==============================] - 14s 716us/step - loss: 0.2915 - acc: 0.6964 - val_loss: 0.2924 - val_acc: 0.7002\n",
            "4800/4800 [==============================] - 0s 41us/step\n",
            "[0.10121591414014498, 0.7002083333333333]\n"
          ],
          "name": "stdout"
        }
      ]
    },
    {
      "cell_type": "markdown",
      "metadata": {
        "id": "gin7h7hEBoZ8",
        "colab_type": "text"
      },
      "source": [
        "## Tree Models"
      ]
    },
    {
      "cell_type": "markdown",
      "metadata": {
        "id": "UYPfezApBxoz",
        "colab_type": "text"
      },
      "source": [
        "## Linear Models"
      ]
    },
    {
      "cell_type": "code",
      "metadata": {
        "id": "N7N40ctoCAaB",
        "colab_type": "code",
        "colab": {}
      },
      "source": [
        "linear_based_models = {\n",
        "    \"en\": ElasticNet(),\n",
        "    \"hr\": HuberRegressor(),\n",
        "    \"lr\": LinearRegression(),\n",
        "    \"ridge\": Ridge(),\n",
        "    \"lasso\": Lasso(),\n",
        "    \"sgd\": SGDRegressor(), \n",
        "    \"pa\": PassiveAggressiveRegressor()\n",
        "}"
      ],
      "execution_count": 0,
      "outputs": []
    },
    {
      "cell_type": "markdown",
      "metadata": {
        "id": "XMDZ8Qh9DJF8",
        "colab_type": "text"
      },
      "source": [
        "## Tuning GradientBooastingRegressor (TODO)（It has highest score.）"
      ]
    },
    {
      "cell_type": "markdown",
      "metadata": {
        "id": "az1liYlyx2oj",
        "colab_type": "text"
      },
      "source": [
        "## Stacked Model (TODO) (can compare with the current stack)\n",
        "* Layer 1 Naive Bayes (NB), Multilayer Perceptron Classifier (MLP)\n",
        "* Layer 2 Logistic regression, Linear Discriminant Analysis(LDA) and XGBoost\n",
        "* Layer 3 Meta learner"
      ]
    },
    {
      "cell_type": "markdown",
      "metadata": {
        "id": "5nwzar6a2UvU",
        "colab_type": "text"
      },
      "source": [
        "# Evaluation\n",
        "\n",
        "\n",
        "*   ROC Curves and Area Under the Curve(AUC)\n",
        "*   ROC more curve is better - Purpose of AUC\n",
        "*   AUC is close to 0.5 (random guessing). AUC is close to 1 (perfect classifier)\n"
      ]
    },
    {
      "cell_type": "markdown",
      "metadata": {
        "colab_type": "text",
        "id": "w5rKRwz4TaVb"
      },
      "source": [
        "## Tree-based models\n",
        "* \"dt\": DecisionTreeRegressor(),\n",
        "* \"rf\": RandomForestRegressor(),\n",
        "* \"ada\": AdaBoostRegressor(),\n",
        "* \"gb\": GradientBoostingRegressor(),\n",
        "* \"et\": ExtraTreesRegressor(),\n",
        "* \"xgb\": XGBRegressor(),\n",
        "* \"lgb\": LGBMRegressor()\n",
        "\n"
      ]
    },
    {
      "cell_type": "markdown",
      "metadata": {
        "id": "bkXI7oveRwiR",
        "colab_type": "text"
      },
      "source": [
        "## Linear-based models\n",
        "* \"en\": ElasticNet(),\n",
        "* \"hr\": HuberRegressor(),\n",
        "* \"lr\": LinearRegression(),\n",
        "* \"ridge\": Ridge(),\n",
        "* \"lasso\": Lasso(),\n",
        "* \"sgd\": SGDRegressor(), \n",
        "* \"pa\": PassiveAggressiveRegressor()"
      ]
    }
  ]
}