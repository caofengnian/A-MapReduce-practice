{
  "nbformat": 4,
  "nbformat_minor": 0,
  "metadata": {
    "kernelspec": {
      "display_name": "Python 3",
      "language": "python",
      "name": "python3"
    },
    "language_info": {
      "codemirror_mode": {
        "name": "ipython",
        "version": 3
      },
      "file_extension": ".py",
      "mimetype": "text/x-python",
      "name": "python",
      "nbconvert_exporter": "python",
      "pygments_lexer": "ipython3",
      "version": "3.7.3"
    },
    "colab": {
      "name": "predict_v2.ipynb",
      "version": "0.3.2",
      "provenance": [],
      "collapsed_sections": [],
      "toc_visible": true,
      "machine_shape": "hm",
      "include_colab_link": true
    }
  },
  "cells": [
    {
      "cell_type": "markdown",
      "metadata": {
        "id": "view-in-github",
        "colab_type": "text"
      },
      "source": [
        "<a href=\"https://colab.research.google.com/github/caofengnian/A-MapReduce-practice/blob/master/predict_v2.ipynb\" target=\"_parent\"><img src=\"https://colab.research.google.com/assets/colab-badge.svg\" alt=\"Open In Colab\"/></a>"
      ]
    },
    {
      "cell_type": "code",
      "metadata": {
        "id": "cuf_7kLIIuYr",
        "colab_type": "code",
        "colab": {}
      },
      "source": [
        "import warnings\n",
        "warnings.filterwarnings(\"ignore\")"
      ],
      "execution_count": 0,
      "outputs": []
    },
    {
      "cell_type": "code",
      "metadata": {
        "id": "Jkku3TEXIuYv",
        "colab_type": "code",
        "colab": {}
      },
      "source": [
        "import os\n",
        "import pandas as pd\n",
        "import numpy as np\n",
        "import seaborn as sns\n",
        "import matplotlib.pyplot as plt"
      ],
      "execution_count": 0,
      "outputs": []
    },
    {
      "cell_type": "markdown",
      "metadata": {
        "id": "T7P6fCzN8fzK",
        "colab_type": "text"
      },
      "source": [
        "# Why this dataset\n",
        "\n",
        "## Problem of former dataset\n",
        "* No correct label (targets) -  targets (correct answers) known to the organizers\n",
        "* Can not do evaluation\n",
        "\n",
        "\n",
        "\n"
      ]
    },
    {
      "cell_type": "markdown",
      "metadata": {
        "id": "GzfKRx8XIuYx",
        "colab_type": "text"
      },
      "source": [
        "# Data Stucture\n",
        "\n",
        "* **bookingID**: trip id\n",
        "* **Accuracy**: accuracy inferred by GPS in meters\n",
        "* **Bearing**: GPS bearing\n",
        "* **acceleration_x**: accelerometer reading in x axis (m/s2)\n",
        "* **acceleration_y**: accelerometer reading in y axis (m/s2)\n",
        "* **acceleration_z**: accelerometer reading in z axis (m/s2)\n",
        "* **gyro_x**: gyroscope reading in x axis (rad/s)\n",
        "* **gyro_y**: gyroscope reading in y axis (rad/s)\n",
        "* **gyro_z**: gyroscope reading in z axis (rad/s)\n",
        "* **second**: time of the record by number of seconds\n",
        "* **Speed**: speed measured in GPS in m/s\n"
      ]
    },
    {
      "cell_type": "code",
      "metadata": {
        "id": "MgRJt9UZKCrB",
        "colab_type": "code",
        "outputId": "ebd5f46e-0a7a-4ebf-fd90-bcd4d700623a",
        "colab": {
          "base_uri": "https://localhost:8080/",
          "height": 54
        }
      },
      "source": [
        "from google.colab import drive\n",
        "drive.mount('/content/drive')"
      ],
      "execution_count": 3,
      "outputs": [
        {
          "output_type": "stream",
          "text": [
            "Drive already mounted at /content/drive; to attempt to forcibly remount, call drive.mount(\"/content/drive\", force_remount=True).\n"
          ],
          "name": "stdout"
        }
      ]
    },
    {
      "cell_type": "markdown",
      "metadata": {
        "id": "_cRSOcUQIuYy",
        "colab_type": "text"
      },
      "source": [
        "## Goal of Solving the Problem\n",
        "If the trip is a bad driving, it will be assigned with label 1. Otherwise, it will be assigned as label 0."
      ]
    },
    {
      "cell_type": "code",
      "metadata": {
        "id": "ut9hthkYIuYz",
        "colab_type": "code",
        "outputId": "531bfad9-ec47-4d58-8367-b8acc6711954",
        "colab": {
          "base_uri": "https://localhost:8080/",
          "height": 224
        }
      },
      "source": [
        "data_files = []\n",
        "label_file = '/content/drive/My Drive/safety/labels/part-00000-e9445087-aa0a-433b-a7f6-7f4c19d78ad6-c000.csv'\n",
        "for f in next(os.walk(\"/content/drive/My Drive/safety/features/\"))[2]:\n",
        "    if f.endswith(\"csv\") and f != label_file.split(\"/\")[2]:\n",
        "        data_files.append(f)\n",
        "tele_data = []\n",
        "for file in data_files:\n",
        "    df = pd.read_csv(\"/content/drive/My Drive/safety/features/\" + file)\n",
        "    tele_data.append(df)\n",
        "tele_data = pd.concat(tele_data)\n",
        "label = pd.read_csv(label_file)\n",
        "tele_data.head()"
      ],
      "execution_count": 4,
      "outputs": [
        {
          "output_type": "execute_result",
          "data": {
            "text/html": [
              "<div>\n",
              "<style scoped>\n",
              "    .dataframe tbody tr th:only-of-type {\n",
              "        vertical-align: middle;\n",
              "    }\n",
              "\n",
              "    .dataframe tbody tr th {\n",
              "        vertical-align: top;\n",
              "    }\n",
              "\n",
              "    .dataframe thead th {\n",
              "        text-align: right;\n",
              "    }\n",
              "</style>\n",
              "<table border=\"1\" class=\"dataframe\">\n",
              "  <thead>\n",
              "    <tr style=\"text-align: right;\">\n",
              "      <th></th>\n",
              "      <th>bookingID</th>\n",
              "      <th>Accuracy</th>\n",
              "      <th>Bearing</th>\n",
              "      <th>acceleration_x</th>\n",
              "      <th>acceleration_y</th>\n",
              "      <th>acceleration_z</th>\n",
              "      <th>gyro_x</th>\n",
              "      <th>gyro_y</th>\n",
              "      <th>gyro_z</th>\n",
              "      <th>second</th>\n",
              "      <th>Speed</th>\n",
              "    </tr>\n",
              "  </thead>\n",
              "  <tbody>\n",
              "    <tr>\n",
              "      <th>0</th>\n",
              "      <td>1194000908341</td>\n",
              "      <td>4.000</td>\n",
              "      <td>203.000000</td>\n",
              "      <td>1.001973</td>\n",
              "      <td>9.745000</td>\n",
              "      <td>-0.790087</td>\n",
              "      <td>-0.066046</td>\n",
              "      <td>0.019175</td>\n",
              "      <td>0.044741</td>\n",
              "      <td>246.0</td>\n",
              "      <td>6.480000</td>\n",
              "    </tr>\n",
              "    <tr>\n",
              "      <th>1</th>\n",
              "      <td>1099511627891</td>\n",
              "      <td>3.000</td>\n",
              "      <td>311.000000</td>\n",
              "      <td>0.452518</td>\n",
              "      <td>9.273026</td>\n",
              "      <td>3.098191</td>\n",
              "      <td>0.005382</td>\n",
              "      <td>0.002155</td>\n",
              "      <td>-0.001436</td>\n",
              "      <td>66.0</td>\n",
              "      <td>0.340365</td>\n",
              "    </tr>\n",
              "    <tr>\n",
              "      <th>2</th>\n",
              "      <td>962072674446</td>\n",
              "      <td>10.000</td>\n",
              "      <td>142.807999</td>\n",
              "      <td>0.018542</td>\n",
              "      <td>-8.041156</td>\n",
              "      <td>-4.960114</td>\n",
              "      <td>0.004223</td>\n",
              "      <td>-0.014875</td>\n",
              "      <td>0.007397</td>\n",
              "      <td>1552.0</td>\n",
              "      <td>2.050000</td>\n",
              "    </tr>\n",
              "    <tr>\n",
              "      <th>3</th>\n",
              "      <td>1142461300867</td>\n",
              "      <td>8.000</td>\n",
              "      <td>171.205292</td>\n",
              "      <td>-0.290698</td>\n",
              "      <td>-8.295367</td>\n",
              "      <td>-3.049042</td>\n",
              "      <td>0.033618</td>\n",
              "      <td>0.046224</td>\n",
              "      <td>0.030559</td>\n",
              "      <td>277.0</td>\n",
              "      <td>17.608448</td>\n",
              "    </tr>\n",
              "    <tr>\n",
              "      <th>4</th>\n",
              "      <td>412316860548</td>\n",
              "      <td>19.379</td>\n",
              "      <td>0.000000</td>\n",
              "      <td>0.675613</td>\n",
              "      <td>8.846130</td>\n",
              "      <td>1.852508</td>\n",
              "      <td>-0.008652</td>\n",
              "      <td>0.003693</td>\n",
              "      <td>0.001160</td>\n",
              "      <td>148.0</td>\n",
              "      <td>0.000000</td>\n",
              "    </tr>\n",
              "  </tbody>\n",
              "</table>\n",
              "</div>"
            ],
            "text/plain": [
              "       bookingID  Accuracy     Bearing  ...    gyro_z  second      Speed\n",
              "0  1194000908341     4.000  203.000000  ...  0.044741   246.0   6.480000\n",
              "1  1099511627891     3.000  311.000000  ... -0.001436    66.0   0.340365\n",
              "2   962072674446    10.000  142.807999  ...  0.007397  1552.0   2.050000\n",
              "3  1142461300867     8.000  171.205292  ...  0.030559   277.0  17.608448\n",
              "4   412316860548    19.379    0.000000  ...  0.001160   148.0   0.000000\n",
              "\n",
              "[5 rows x 11 columns]"
            ]
          },
          "metadata": {
            "tags": []
          },
          "execution_count": 4
        }
      ]
    },
    {
      "cell_type": "markdown",
      "metadata": {
        "id": "LBjKztTwrWcl",
        "colab_type": "text"
      },
      "source": [
        "* **It has 20000 trips with 16135561 data points in total.**"
      ]
    },
    {
      "cell_type": "markdown",
      "metadata": {
        "id": "ZCUsHbCrqSkk",
        "colab_type": "text"
      },
      "source": [
        "# Data Pre-processing\n"
      ]
    },
    {
      "cell_type": "markdown",
      "metadata": {
        "id": "-y2F5N5fsWxW",
        "colab_type": "text"
      },
      "source": [
        "## Check NULL Values\n",
        "* no empty item"
      ]
    },
    {
      "cell_type": "code",
      "metadata": {
        "id": "5m9273Cusbno",
        "colab_type": "code",
        "outputId": "5479e64a-dd53-4801-d9ad-70e36756b0ea",
        "colab": {
          "base_uri": "https://localhost:8080/",
          "height": 221
        }
      },
      "source": [
        "tele_data.isna().sum()"
      ],
      "execution_count": 5,
      "outputs": [
        {
          "output_type": "execute_result",
          "data": {
            "text/plain": [
              "bookingID         0\n",
              "Accuracy          0\n",
              "Bearing           0\n",
              "acceleration_x    0\n",
              "acceleration_y    0\n",
              "acceleration_z    0\n",
              "gyro_x            0\n",
              "gyro_y            0\n",
              "gyro_z            0\n",
              "second            0\n",
              "Speed             0\n",
              "dtype: int64"
            ]
          },
          "metadata": {
            "tags": []
          },
          "execution_count": 5
        }
      ]
    },
    {
      "cell_type": "code",
      "metadata": {
        "id": "BiYLTDWQs0g6",
        "colab_type": "code",
        "outputId": "5db79fc6-4066-40fc-be62-2a92e294f71a",
        "colab": {
          "base_uri": "https://localhost:8080/",
          "height": 68
        }
      },
      "source": [
        "label.isna().sum()"
      ],
      "execution_count": 6,
      "outputs": [
        {
          "output_type": "execute_result",
          "data": {
            "text/plain": [
              "bookingID    0\n",
              "label        0\n",
              "dtype: int64"
            ]
          },
          "metadata": {
            "tags": []
          },
          "execution_count": 6
        }
      ]
    },
    {
      "cell_type": "code",
      "metadata": {
        "id": "6yDqteXlq9Nv",
        "colab_type": "code",
        "outputId": "78abb3fd-bc35-4513-bdff-07710fa66f83",
        "colab": {
          "base_uri": "https://localhost:8080/",
          "height": 68
        }
      },
      "source": [
        "print(tele_data.shape)\n",
        "print('Telematics dataset totla items:', len(tele_data['bookingID'].unique()))\n",
        "print('label dataset totla items:', len(label))"
      ],
      "execution_count": 7,
      "outputs": [
        {
          "output_type": "stream",
          "text": [
            "(16135561, 11)\n",
            "Telematics dataset totla items: 20000\n",
            "label dataset totla items: 20018\n"
          ],
          "name": "stdout"
        }
      ]
    },
    {
      "cell_type": "markdown",
      "metadata": {
        "id": "22gKwCPMsTay",
        "colab_type": "text"
      },
      "source": [
        "## Why there are 20018 label targets?\n",
        "* It has 20018 target items.\n",
        "* It may have duplicated trips."
      ]
    },
    {
      "cell_type": "code",
      "metadata": {
        "id": "E7IYMPYXxE_A",
        "colab_type": "code",
        "outputId": "646f783f-0a02-4d29-80e0-143d6b807f18",
        "colab": {
          "base_uri": "https://localhost:8080/",
          "height": 935
        }
      },
      "source": [
        "dupli_trip = label.loc[label['bookingID'].duplicated(),'bookingID']\n",
        "for each_bookingID in dupli_trip:\n",
        "  print(label[label['bookingID'] == each_bookingID])"
      ],
      "execution_count": 8,
      "outputs": [
        {
          "output_type": "stream",
          "text": [
            "         bookingID  label\n",
            "2351  154618822837      1\n",
            "5295  154618822837      0\n",
            "          bookingID  label\n",
            "6168  1279900254294      1\n",
            "6210  1279900254294      0\n",
            "          bookingID  label\n",
            "1256  1511828488211      1\n",
            "6516  1511828488211      0\n",
            "          bookingID  label\n",
            "2858   455266533495      1\n",
            "10778  455266533495      0\n",
            "          bookingID  label\n",
            "6212   223338299461      0\n",
            "11215  223338299461      1\n",
            "       bookingID  label\n",
            "12463         13      0\n",
            "12602         13      1\n",
            "          bookingID  label\n",
            "2721   970662608932      0\n",
            "13634  970662608932      1\n",
            "           bookingID  label\n",
            "1059   1632087572573      1\n",
            "14432  1632087572573      0\n",
            "           bookingID  label\n",
            "9979   1391569403991      0\n",
            "14942  1391569403991      1\n",
            "           bookingID  label\n",
            "9483   1408749273124      0\n",
            "16340  1408749273124      1\n",
            "           bookingID  label\n",
            "3068   1348619731077      1\n",
            "16990  1348619731077      0\n",
            "          bookingID  label\n",
            "10880  695784702084      0\n",
            "17001  695784702084      1\n",
            "          bookingID  label\n",
            "8472   403726925929      0\n",
            "17623  403726925929      1\n",
            "          bookingID  label\n",
            "16462  515396075694      0\n",
            "17843  515396075694      1\n",
            "          bookingID  label\n",
            "11058  481036337234      1\n",
            "18027  481036337234      0\n",
            "          bookingID  label\n",
            "11133  919123001348      1\n",
            "18951  919123001348      0\n",
            "           bookingID  label\n",
            "13688  1649267441751      1\n",
            "19453  1649267441751      0\n",
            "          bookingID  label\n",
            "6121   395136991308      1\n",
            "19936  395136991308      0\n"
          ],
          "name": "stdout"
        }
      ]
    },
    {
      "cell_type": "markdown",
      "metadata": {
        "id": "8YcwVEU8-aer",
        "colab_type": "text"
      },
      "source": [
        "## Remove all of them\n",
        "*  All of them are conflict labels (0 and 1 at the same time). In order to improve data quality and not to influence the prediction model, drop all of them."
      ]
    },
    {
      "cell_type": "code",
      "metadata": {
        "id": "ZrMfn_V__c4O",
        "colab_type": "code",
        "outputId": "c7256c3b-7026-4459-cf29-265c4bb44e91",
        "colab": {
          "base_uri": "https://localhost:8080/",
          "height": 51
        }
      },
      "source": [
        "tele_data = tele_data[~tele_data['bookingID'].isin(dupli_trip)]\n",
        "print(tele_data.shape)\n",
        "label = label[~label['bookingID'].isin(dupli_trip)]\n",
        "print(label.shape)"
      ],
      "execution_count": 9,
      "outputs": [
        {
          "output_type": "stream",
          "text": [
            "(16116704, 11)\n",
            "(19982, 2)\n"
          ],
          "name": "stdout"
        }
      ]
    },
    {
      "cell_type": "markdown",
      "metadata": {
        "id": "LCOxxeS9mW-9",
        "colab_type": "text"
      },
      "source": [
        "# Data Cleaning"
      ]
    },
    {
      "cell_type": "code",
      "metadata": {
        "id": "FJHg6jB9nv9E",
        "colab_type": "code",
        "outputId": "20853b74-8b60-409c-80a0-fd0436116698",
        "colab": {
          "base_uri": "https://localhost:8080/",
          "height": 317
        }
      },
      "source": [
        "tele_data.describe()"
      ],
      "execution_count": 10,
      "outputs": [
        {
          "output_type": "execute_result",
          "data": {
            "text/html": [
              "<div>\n",
              "<style scoped>\n",
              "    .dataframe tbody tr th:only-of-type {\n",
              "        vertical-align: middle;\n",
              "    }\n",
              "\n",
              "    .dataframe tbody tr th {\n",
              "        vertical-align: top;\n",
              "    }\n",
              "\n",
              "    .dataframe thead th {\n",
              "        text-align: right;\n",
              "    }\n",
              "</style>\n",
              "<table border=\"1\" class=\"dataframe\">\n",
              "  <thead>\n",
              "    <tr style=\"text-align: right;\">\n",
              "      <th></th>\n",
              "      <th>bookingID</th>\n",
              "      <th>Accuracy</th>\n",
              "      <th>Bearing</th>\n",
              "      <th>acceleration_x</th>\n",
              "      <th>acceleration_y</th>\n",
              "      <th>acceleration_z</th>\n",
              "      <th>gyro_x</th>\n",
              "      <th>gyro_y</th>\n",
              "      <th>gyro_z</th>\n",
              "      <th>second</th>\n",
              "      <th>Speed</th>\n",
              "    </tr>\n",
              "  </thead>\n",
              "  <tbody>\n",
              "    <tr>\n",
              "      <th>count</th>\n",
              "      <td>1.611670e+07</td>\n",
              "      <td>1.611670e+07</td>\n",
              "      <td>1.611670e+07</td>\n",
              "      <td>1.611670e+07</td>\n",
              "      <td>1.611670e+07</td>\n",
              "      <td>1.611670e+07</td>\n",
              "      <td>1.611670e+07</td>\n",
              "      <td>1.611670e+07</td>\n",
              "      <td>1.611670e+07</td>\n",
              "      <td>1.611670e+07</td>\n",
              "      <td>1.611670e+07</td>\n",
              "    </tr>\n",
              "    <tr>\n",
              "      <th>mean</th>\n",
              "      <td>8.184342e+11</td>\n",
              "      <td>1.161327e+01</td>\n",
              "      <td>1.689596e+02</td>\n",
              "      <td>6.897958e-02</td>\n",
              "      <td>4.473604e+00</td>\n",
              "      <td>8.958685e-01</td>\n",
              "      <td>-1.708257e-03</td>\n",
              "      <td>2.938396e-04</td>\n",
              "      <td>-2.601239e-04</td>\n",
              "      <td>3.807072e+03</td>\n",
              "      <td>9.006461e+00</td>\n",
              "    </tr>\n",
              "    <tr>\n",
              "      <th>std</th>\n",
              "      <td>4.951572e+11</td>\n",
              "      <td>8.696429e+01</td>\n",
              "      <td>1.072970e+02</td>\n",
              "      <td>1.424623e+00</td>\n",
              "      <td>8.128499e+00</td>\n",
              "      <td>3.250204e+00</td>\n",
              "      <td>1.446192e-01</td>\n",
              "      <td>3.402431e-01</td>\n",
              "      <td>1.481542e-01</td>\n",
              "      <td>1.437527e+06</td>\n",
              "      <td>8.106538e+00</td>\n",
              "    </tr>\n",
              "    <tr>\n",
              "      <th>min</th>\n",
              "      <td>0.000000e+00</td>\n",
              "      <td>7.500000e-01</td>\n",
              "      <td>0.000000e+00</td>\n",
              "      <td>-7.841969e+01</td>\n",
              "      <td>-7.299412e+01</td>\n",
              "      <td>-7.844842e+01</td>\n",
              "      <td>-4.845575e+01</td>\n",
              "      <td>-7.488861e+01</td>\n",
              "      <td>-5.355445e+01</td>\n",
              "      <td>0.000000e+00</td>\n",
              "      <td>-2.000000e+00</td>\n",
              "    </tr>\n",
              "    <tr>\n",
              "      <th>25%</th>\n",
              "      <td>3.779571e+11</td>\n",
              "      <td>3.900000e+00</td>\n",
              "      <td>7.800000e+01</td>\n",
              "      <td>-5.084229e-01</td>\n",
              "      <td>-1.932755e+00</td>\n",
              "      <td>-9.298957e-01</td>\n",
              "      <td>-2.679162e-02</td>\n",
              "      <td>-2.993423e-02</td>\n",
              "      <td>-1.876969e-02</td>\n",
              "      <td>2.410000e+02</td>\n",
              "      <td>1.020000e+00</td>\n",
              "    </tr>\n",
              "    <tr>\n",
              "      <th>50%</th>\n",
              "      <td>8.074539e+11</td>\n",
              "      <td>4.244000e+00</td>\n",
              "      <td>1.687888e+02</td>\n",
              "      <td>6.120300e-02</td>\n",
              "      <td>9.082404e+00</td>\n",
              "      <td>7.769897e-01</td>\n",
              "      <td>-6.420414e-04</td>\n",
              "      <td>2.663161e-04</td>\n",
              "      <td>-3.726278e-05</td>\n",
              "      <td>5.200000e+02</td>\n",
              "      <td>7.530000e+00</td>\n",
              "    </tr>\n",
              "    <tr>\n",
              "      <th>75%</th>\n",
              "      <td>1.254130e+12</td>\n",
              "      <td>8.000000e+00</td>\n",
              "      <td>2.629526e+02</td>\n",
              "      <td>6.347809e-01</td>\n",
              "      <td>9.709925e+00</td>\n",
              "      <td>2.751175e+00</td>\n",
              "      <td>2.331571e-02</td>\n",
              "      <td>3.144551e-02</td>\n",
              "      <td>1.823425e-02</td>\n",
              "      <td>8.620000e+02</td>\n",
              "      <td>1.548000e+01</td>\n",
              "    </tr>\n",
              "    <tr>\n",
              "      <th>max</th>\n",
              "      <td>1.709397e+12</td>\n",
              "      <td>6.070101e+03</td>\n",
              "      <td>3.599995e+02</td>\n",
              "      <td>6.687346e+01</td>\n",
              "      <td>7.505589e+01</td>\n",
              "      <td>7.805576e+01</td>\n",
              "      <td>3.983975e+01</td>\n",
              "      <td>8.031496e+01</td>\n",
              "      <td>6.630078e+01</td>\n",
              "      <td>1.495797e+09</td>\n",
              "      <td>1.480186e+02</td>\n",
              "    </tr>\n",
              "  </tbody>\n",
              "</table>\n",
              "</div>"
            ],
            "text/plain": [
              "          bookingID      Accuracy  ...        second         Speed\n",
              "count  1.611670e+07  1.611670e+07  ...  1.611670e+07  1.611670e+07\n",
              "mean   8.184342e+11  1.161327e+01  ...  3.807072e+03  9.006461e+00\n",
              "std    4.951572e+11  8.696429e+01  ...  1.437527e+06  8.106538e+00\n",
              "min    0.000000e+00  7.500000e-01  ...  0.000000e+00 -2.000000e+00\n",
              "25%    3.779571e+11  3.900000e+00  ...  2.410000e+02  1.020000e+00\n",
              "50%    8.074539e+11  4.244000e+00  ...  5.200000e+02  7.530000e+00\n",
              "75%    1.254130e+12  8.000000e+00  ...  8.620000e+02  1.548000e+01\n",
              "max    1.709397e+12  6.070101e+03  ...  1.495797e+09  1.480186e+02\n",
              "\n",
              "[8 rows x 11 columns]"
            ]
          },
          "metadata": {
            "tags": []
          },
          "execution_count": 10
        }
      ]
    },
    {
      "cell_type": "markdown",
      "metadata": {
        "id": "9GS-bZ_HptwK",
        "colab_type": "text"
      },
      "source": [
        "* **Some seconds are incredibly large.**"
      ]
    },
    {
      "cell_type": "code",
      "metadata": {
        "id": "WMVUGIa9qvYr",
        "colab_type": "code",
        "outputId": "f0995239-bd23-4e03-e203-deaf8a0d4b2e",
        "colab": {
          "base_uri": "https://localhost:8080/",
          "height": 297
        }
      },
      "source": [
        "label.describe()"
      ],
      "execution_count": 11,
      "outputs": [
        {
          "output_type": "execute_result",
          "data": {
            "text/html": [
              "<div>\n",
              "<style scoped>\n",
              "    .dataframe tbody tr th:only-of-type {\n",
              "        vertical-align: middle;\n",
              "    }\n",
              "\n",
              "    .dataframe tbody tr th {\n",
              "        vertical-align: top;\n",
              "    }\n",
              "\n",
              "    .dataframe thead th {\n",
              "        text-align: right;\n",
              "    }\n",
              "</style>\n",
              "<table border=\"1\" class=\"dataframe\">\n",
              "  <thead>\n",
              "    <tr style=\"text-align: right;\">\n",
              "      <th></th>\n",
              "      <th>bookingID</th>\n",
              "      <th>label</th>\n",
              "    </tr>\n",
              "  </thead>\n",
              "  <tbody>\n",
              "    <tr>\n",
              "      <th>count</th>\n",
              "      <td>1.998200e+04</td>\n",
              "      <td>19982.000000</td>\n",
              "    </tr>\n",
              "    <tr>\n",
              "      <th>mean</th>\n",
              "      <td>8.161654e+11</td>\n",
              "      <td>0.249374</td>\n",
              "    </tr>\n",
              "    <tr>\n",
              "      <th>std</th>\n",
              "      <td>4.944728e+11</td>\n",
              "      <td>0.432662</td>\n",
              "    </tr>\n",
              "    <tr>\n",
              "      <th>min</th>\n",
              "      <td>0.000000e+00</td>\n",
              "      <td>0.000000</td>\n",
              "    </tr>\n",
              "    <tr>\n",
              "      <th>25%</th>\n",
              "      <td>3.865471e+11</td>\n",
              "      <td>0.000000</td>\n",
              "    </tr>\n",
              "    <tr>\n",
              "      <th>50%</th>\n",
              "      <td>7.988639e+11</td>\n",
              "      <td>0.000000</td>\n",
              "    </tr>\n",
              "    <tr>\n",
              "      <th>75%</th>\n",
              "      <td>1.245541e+12</td>\n",
              "      <td>0.000000</td>\n",
              "    </tr>\n",
              "    <tr>\n",
              "      <th>max</th>\n",
              "      <td>1.709397e+12</td>\n",
              "      <td>1.000000</td>\n",
              "    </tr>\n",
              "  </tbody>\n",
              "</table>\n",
              "</div>"
            ],
            "text/plain": [
              "          bookingID         label\n",
              "count  1.998200e+04  19982.000000\n",
              "mean   8.161654e+11      0.249374\n",
              "std    4.944728e+11      0.432662\n",
              "min    0.000000e+00      0.000000\n",
              "25%    3.865471e+11      0.000000\n",
              "50%    7.988639e+11      0.000000\n",
              "75%    1.245541e+12      0.000000\n",
              "max    1.709397e+12      1.000000"
            ]
          },
          "metadata": {
            "tags": []
          },
          "execution_count": 11
        }
      ]
    },
    {
      "cell_type": "code",
      "metadata": {
        "id": "00jiKm8arwGJ",
        "colab_type": "code",
        "outputId": "112e0f43-b895-4819-aca5-90feba95fcc6",
        "colab": {
          "base_uri": "https://localhost:8080/",
          "height": 68
        }
      },
      "source": [
        "label['label'].value_counts()"
      ],
      "execution_count": 12,
      "outputs": [
        {
          "output_type": "execute_result",
          "data": {
            "text/plain": [
              "0    14999\n",
              "1     4983\n",
              "Name: label, dtype: int64"
            ]
          },
          "metadata": {
            "tags": []
          },
          "execution_count": 12
        }
      ]
    },
    {
      "cell_type": "markdown",
      "metadata": {
        "id": "i3s3HpVR6zVC",
        "colab_type": "text"
      },
      "source": [
        "* **Around 24.94% is dangerous.**"
      ]
    },
    {
      "cell_type": "markdown",
      "metadata": {
        "id": "3Wk5CytIKnfv",
        "colab_type": "text"
      },
      "source": [
        "## Remove counterintuitive data\n",
        "* 1. 'Speed (m/s)' could be lower than 0. It may represent that it was reversing. But it should not be extremly large.\n",
        "\n",
        "* 2. 'Second' should not be extremly large."
      ]
    },
    {
      "cell_type": "markdown",
      "metadata": {
        "id": "9CYWI4It02hN",
        "colab_type": "text"
      },
      "source": [
        "### Box Plot to Examine Outliers"
      ]
    },
    {
      "cell_type": "code",
      "metadata": {
        "id": "UUJ0aRXx07vp",
        "colab_type": "code",
        "outputId": "925b3683-c7bd-4965-f37d-c6aef72e91cb",
        "colab": {
          "base_uri": "https://localhost:8080/",
          "height": 724
        }
      },
      "source": [
        "box_fig = plt.figure()\n",
        "\n",
        "ax0 = box_fig.add_subplot(3, 2, 1)\n",
        "ax1 = box_fig.add_subplot(3, 2, 2)\n",
        "ax2 = box_fig.add_subplot(3, 2, 3)\n",
        "ax3 = box_fig.add_subplot(3, 2, 4)\n",
        "ax4 = box_fig.add_subplot(3, 2, 5)\n",
        "ax5 = box_fig.add_subplot(3, 2, 6)\n",
        "\n",
        "box0 = tele_data[['acceleration_x','acceleration_y','acceleration_z']]\n",
        "box1 = tele_data[['gyro_x','gyro_y','gyro_z']]\n",
        "box2 = tele_data[['Accuracy']]\n",
        "box3 = tele_data[['Bearing']]\n",
        "box4 = tele_data[['second']]\n",
        "box5 = tele_data[['Speed']]\n",
        "\n",
        "box0.plot(kind='box', figsize=(10, 12), ax=ax0)\n",
        "box1.plot(kind='box', figsize=(10, 12), ax=ax1)\n",
        "box2.plot(kind='box', figsize=(10, 12), ax=ax2)\n",
        "box3.plot(kind='box', figsize=(10, 12), ax=ax3)\n",
        "box4.plot(kind='box', figsize=(10, 12), ax=ax4)\n",
        "box5.plot(kind='box', figsize=(10, 12), ax=ax5)\n",
        "\n",
        "\n",
        "plt.show()"
      ],
      "execution_count": 13,
      "outputs": [
        {
          "output_type": "display_data",
          "data": {
            "image/png": "[encoded data removed]",
            "text/plain": [
              "<Figure size 720x864 with 6 Axes>"
            ]
          },
          "metadata": {
            "tags": []
          }
        }
      ]
    },
    {
      "cell_type": "markdown",
      "metadata": {
        "id": "LENhmhok0XPB",
        "colab_type": "text"
      },
      "source": [
        "### Examine Second Outliers"
      ]
    },
    {
      "cell_type": "code",
      "metadata": {
        "id": "ivJ3D1CP0jHo",
        "colab_type": "code",
        "outputId": "6fefdc5e-d5a6-4b5c-fde9-d70e5235acb6",
        "colab": {
          "base_uri": "https://localhost:8080/",
          "height": 51
        }
      },
      "source": [
        "# examine second\n",
        "print(\"Number of extremly large second (>100000000): \\n\", sum(tele_data['second'] >= 100000000))"
      ],
      "execution_count": 14,
      "outputs": [
        {
          "output_type": "stream",
          "text": [
            "Number of extremly large second (>100000000): \n",
            " 82\n"
          ],
          "name": "stdout"
        }
      ]
    },
    {
      "cell_type": "markdown",
      "metadata": {
        "id": "e3XIGGJ28z7T",
        "colab_type": "text"
      },
      "source": [
        "From the box plot, we can see some of the second data is far larger than normal. We should exampt all of them larger than about 0.6e+09, which are larger than 20 years. Others are reasonably below 8000 seconds which are around 2 hours and below."
      ]
    },
    {
      "cell_type": "markdown",
      "metadata": {
        "id": "lK-VhUSk0Mic",
        "colab_type": "text"
      },
      "source": [
        "### Examine Speed Outliers"
      ]
    },
    {
      "cell_type": "code",
      "metadata": {
        "id": "xHHQJMbwZPAc",
        "colab_type": "code",
        "outputId": "e4bdbaf8-d5f5-4e98-95de-5e96a15bcb94",
        "colab": {
          "base_uri": "https://localhost:8080/",
          "height": 153
        }
      },
      "source": [
        "# examine speed\n",
        "#print(tele_data['Speed'].describe())\n",
        "print(\"Numbers of Speed equals -1: \\n\", sum(tele_data['Speed']==-1), \"\\nPercentage of Speed equals -1: \\n\", sum(tele_data['Speed']==-1)/sum(tele_data['Speed'] <0))\n",
        "print(\"Examine extremly large speed: \\n\", tele_data['Speed'].nlargest(2))"
      ],
      "execution_count": 15,
      "outputs": [
        {
          "output_type": "stream",
          "text": [
            "Numbers of Speed equals -1: \n",
            " 236923 \n",
            "Percentage of Speed equals -1: \n",
            " 0.9869612127321883\n",
            "Examine extremly large speed: \n",
            " 802096    148.018630\n",
            "410507     88.037254\n",
            "Name: Speed, dtype: float64\n"
          ],
          "name": "stdout"
        }
      ]
    },
    {
      "cell_type": "markdown",
      "metadata": {
        "id": "5UK19NaNbzX-",
        "colab_type": "text"
      },
      "source": [
        "* 98.6% speed lower than 0 equals -1. It is abnormal. Although the value could be lower than 0, the percentage of being -1 is too high. The reason of it is inferred by GPS accurancy is very low. We can see some of the accuracy is in thousands of meters. Thus the system may indicate these value as -1. Moreover, the largest two speed is around 148 and 88 respectively. 88 m/s (316 km/h) is possible, but 148 m/s (532 km/h) is too large for a vehicle."
      ]
    },
    {
      "cell_type": "markdown",
      "metadata": {
        "id": "DLrreQcy-qTq",
        "colab_type": "text"
      },
      "source": [
        "### Examine Accuracy"
      ]
    },
    {
      "cell_type": "code",
      "metadata": {
        "id": "ZBUyO3Ee-pMg",
        "colab_type": "code",
        "outputId": "3b9f5180-eae4-4004-b299-ced2ceb25b26",
        "colab": {
          "base_uri": "https://localhost:8080/",
          "height": 300
        }
      },
      "source": [
        "sns.distplot(tele_data['Accuracy'])"
      ],
      "execution_count": 16,
      "outputs": [
        {
          "output_type": "execute_result",
          "data": {
            "text/plain": [
              "<matplotlib.axes._subplots.AxesSubplot at 0x7fd5f0258940>"
            ]
          },
          "metadata": {
            "tags": []
          },
          "execution_count": 16
        },
        {
          "output_type": "display_data",
          "data": {
            "image/png": "[encoded data removed]",
            "text/plain": [
              "<Figure size 432x288 with 1 Axes>"
            ]
          },
          "metadata": {
            "tags": []
          }
        }
      ]
    },
    {
      "cell_type": "code",
      "metadata": {
        "id": "wXp6WVMmLdy3",
        "colab_type": "code",
        "outputId": "822290e0-e053-4046-feb8-53ce2dfe8345",
        "colab": {
          "base_uri": "https://localhost:8080/",
          "height": 300
        }
      },
      "source": [
        "tele_acc = tele_data['Accuracy']\n",
        "tele_acc = tele_acc.loc[tele_data[\"Accuracy\"] <= np.percentile(tele_data[\"Accuracy\"], 95)]\n",
        "sns.distplot(tele_acc)"
      ],
      "execution_count": 17,
      "outputs": [
        {
          "output_type": "execute_result",
          "data": {
            "text/plain": [
              "<matplotlib.axes._subplots.AxesSubplot at 0x7fd5ec5e3cc0>"
            ]
          },
          "metadata": {
            "tags": []
          },
          "execution_count": 17
        },
        {
          "output_type": "display_data",
          "data": {
            "image/png": "[encoded data removed]",
            "text/plain": [
              "<Figure size 432x288 with 1 Axes>"
            ]
          },
          "metadata": {
            "tags": []
          }
        }
      ]
    },
    {
      "cell_type": "markdown",
      "metadata": {
        "id": "g4h0x_c7fHTL",
        "colab_type": "text"
      },
      "source": [
        "### Clean counterintuitive/outlier data"
      ]
    },
    {
      "cell_type": "code",
      "metadata": {
        "id": "yBKGUh9BLoBC",
        "colab_type": "code",
        "colab": {}
      },
      "source": [
        "tele_data = tele_data.loc[(tele_data['second'] < 100000000) & (tele_data['Speed'] < 89) & (tele_data['Speed'] != -1) & (tele_data[\"Accuracy\"] <= np.percentile(tele_data[\"Accuracy\"], 95))]"
      ],
      "execution_count": 0,
      "outputs": []
    },
    {
      "cell_type": "code",
      "metadata": {
        "id": "-Vk0ZWxIMrGf",
        "colab_type": "code",
        "outputId": "610349a1-ed1f-4e47-a70e-ac97b1bc83fa",
        "colab": {
          "base_uri": "https://localhost:8080/",
          "height": 34
        }
      },
      "source": [
        "tele_data.shape"
      ],
      "execution_count": 19,
      "outputs": [
        {
          "output_type": "execute_result",
          "data": {
            "text/plain": [
              "(15419359, 11)"
            ]
          },
          "metadata": {
            "tags": []
          },
          "execution_count": 19
        }
      ]
    },
    {
      "cell_type": "markdown",
      "metadata": {
        "id": "iJCH-3Er-S1s",
        "colab_type": "text"
      },
      "source": [
        "### Drop Accuracy"
      ]
    },
    {
      "cell_type": "code",
      "metadata": {
        "id": "cxX8IA7L-f-N",
        "colab_type": "code",
        "colab": {}
      },
      "source": [
        "tele_data.drop(['Accuracy'], axis=1, inplace=True)\n",
        "# tele_data.head()"
      ],
      "execution_count": 0,
      "outputs": []
    },
    {
      "cell_type": "markdown",
      "metadata": {
        "id": "xeLJmdKd8x1H",
        "colab_type": "text"
      },
      "source": [
        "## Group by BookingID\n",
        "* Reduce repeating items would be helpful to the model and prevent overfitting."
      ]
    },
    {
      "cell_type": "markdown",
      "metadata": {
        "id": "8TsF1tDZpCH2",
        "colab_type": "text"
      },
      "source": [
        "# Feature Engineering"
      ]
    },
    {
      "cell_type": "markdown",
      "metadata": {
        "id": "5JuVh91rM_jn",
        "colab_type": "text"
      },
      "source": [
        "## Data Transforming"
      ]
    },
    {
      "cell_type": "markdown",
      "metadata": {
        "id": "GJlikeONclUH",
        "colab_type": "text"
      },
      "source": [
        "### Transform Accelerometer and gyroscope\n",
        "* The two raw series of data are needed to be transformed to useful."
      ]
    },
    {
      "cell_type": "markdown",
      "metadata": {
        "id": "b0IjC9Nw--w8",
        "colab_type": "text"
      },
      "source": [
        "#### Accelerometer\n",
        "* Real composed direction acceleration $\\sqrt{(acceleration_x)^2+(acceleration_y)^2+(acceleration_z)^2}$ "
      ]
    },
    {
      "cell_type": "code",
      "metadata": {
        "id": "GX8Qopmh_Hh4",
        "colab_type": "code",
        "colab": {}
      },
      "source": [
        "tele_data['acc'] = np.sqrt((tele_data.loc[:,('acceleration_x', 'acceleration_y', 'acceleration_z')]**2).sum(axis=1))\n",
        "# tele_data.head()"
      ],
      "execution_count": 0,
      "outputs": []
    },
    {
      "cell_type": "markdown",
      "metadata": {
        "id": "Xw7HQztQ-5mN",
        "colab_type": "text"
      },
      "source": [
        "#### Gyroscope\n",
        "* It need to be reduce demension from triaxial data (3-D Demension).\n",
        "* Principal component analysis (PCA) will be used to reduce the risk of curse of dimensionality."
      ]
    },
    {
      "cell_type": "code",
      "metadata": {
        "id": "njdtadOzfbCZ",
        "colab_type": "code",
        "colab": {}
      },
      "source": [
        "from sklearn.decomposition import PCA\n",
        "pca = PCA(n_components=1)\n",
        "pca_gyro = pca.fit(tele_data.loc[:, ['gyro_x', 'gyro_y', 'gyro_z']])\n",
        "pca_gyro.explained_variance_ratio_\n",
        "tele_data['pca_gyro'] = pca_gyro.transform(tele_data.loc[:, ['gyro_x', 'gyro_y', 'gyro_z']])"
      ],
      "execution_count": 0,
      "outputs": []
    },
    {
      "cell_type": "markdown",
      "metadata": {
        "id": "dgB8GHphnK7u",
        "colab_type": "text"
      },
      "source": [
        "* gyro_x is 75.86%. Just keep gyro_x."
      ]
    },
    {
      "cell_type": "code",
      "metadata": {
        "id": "Zl_-igIXdQJg",
        "colab_type": "code",
        "colab": {
          "base_uri": "https://localhost:8080/",
          "height": 224
        },
        "outputId": "afabadcc-74fb-4dc7-efd9-771bf3b397a0"
      },
      "source": [
        "tele_data.head()"
      ],
      "execution_count": 23,
      "outputs": [
        {
          "output_type": "execute_result",
          "data": {
            "text/html": [
              "<div>\n",
              "<style scoped>\n",
              "    .dataframe tbody tr th:only-of-type {\n",
              "        vertical-align: middle;\n",
              "    }\n",
              "\n",
              "    .dataframe tbody tr th {\n",
              "        vertical-align: top;\n",
              "    }\n",
              "\n",
              "    .dataframe thead th {\n",
              "        text-align: right;\n",
              "    }\n",
              "</style>\n",
              "<table border=\"1\" class=\"dataframe\">\n",
              "  <thead>\n",
              "    <tr style=\"text-align: right;\">\n",
              "      <th></th>\n",
              "      <th>bookingID</th>\n",
              "      <th>Bearing</th>\n",
              "      <th>acceleration_x</th>\n",
              "      <th>acceleration_y</th>\n",
              "      <th>acceleration_z</th>\n",
              "      <th>gyro_x</th>\n",
              "      <th>gyro_y</th>\n",
              "      <th>gyro_z</th>\n",
              "      <th>second</th>\n",
              "      <th>Speed</th>\n",
              "      <th>acc</th>\n",
              "      <th>pca_gyro</th>\n",
              "    </tr>\n",
              "  </thead>\n",
              "  <tbody>\n",
              "    <tr>\n",
              "      <th>0</th>\n",
              "      <td>1194000908341</td>\n",
              "      <td>203.000000</td>\n",
              "      <td>1.001973</td>\n",
              "      <td>9.745000</td>\n",
              "      <td>-0.790087</td>\n",
              "      <td>-0.066046</td>\n",
              "      <td>0.019175</td>\n",
              "      <td>0.044741</td>\n",
              "      <td>246.0</td>\n",
              "      <td>6.480000</td>\n",
              "      <td>9.828185</td>\n",
              "      <td>0.020808</td>\n",
              "    </tr>\n",
              "    <tr>\n",
              "      <th>1</th>\n",
              "      <td>1099511627891</td>\n",
              "      <td>311.000000</td>\n",
              "      <td>0.452518</td>\n",
              "      <td>9.273026</td>\n",
              "      <td>3.098191</td>\n",
              "      <td>0.005382</td>\n",
              "      <td>0.002155</td>\n",
              "      <td>-0.001436</td>\n",
              "      <td>66.0</td>\n",
              "      <td>0.340365</td>\n",
              "      <td>9.787368</td>\n",
              "      <td>0.001842</td>\n",
              "    </tr>\n",
              "    <tr>\n",
              "      <th>2</th>\n",
              "      <td>962072674446</td>\n",
              "      <td>142.807999</td>\n",
              "      <td>0.018542</td>\n",
              "      <td>-8.041156</td>\n",
              "      <td>-4.960114</td>\n",
              "      <td>0.004223</td>\n",
              "      <td>-0.014875</td>\n",
              "      <td>0.007397</td>\n",
              "      <td>1552.0</td>\n",
              "      <td>2.050000</td>\n",
              "      <td>9.447924</td>\n",
              "      <td>-0.014509</td>\n",
              "    </tr>\n",
              "    <tr>\n",
              "      <th>3</th>\n",
              "      <td>1142461300867</td>\n",
              "      <td>171.205292</td>\n",
              "      <td>-0.290698</td>\n",
              "      <td>-8.295367</td>\n",
              "      <td>-3.049042</td>\n",
              "      <td>0.033618</td>\n",
              "      <td>0.046224</td>\n",
              "      <td>0.030559</td>\n",
              "      <td>277.0</td>\n",
              "      <td>17.608448</td>\n",
              "      <td>8.842753</td>\n",
              "      <td>0.048700</td>\n",
              "    </tr>\n",
              "    <tr>\n",
              "      <th>5</th>\n",
              "      <td>1176821039217</td>\n",
              "      <td>277.000000</td>\n",
              "      <td>0.268151</td>\n",
              "      <td>9.011775</td>\n",
              "      <td>1.781286</td>\n",
              "      <td>0.000192</td>\n",
              "      <td>0.003718</td>\n",
              "      <td>-0.011833</td>\n",
              "      <td>56.0</td>\n",
              "      <td>1.053419</td>\n",
              "      <td>9.190048</td>\n",
              "      <td>0.002531</td>\n",
              "    </tr>\n",
              "  </tbody>\n",
              "</table>\n",
              "</div>"
            ],
            "text/plain": [
              "       bookingID     Bearing  acceleration_x  ...      Speed       acc  pca_gyro\n",
              "0  1194000908341  203.000000        1.001973  ...   6.480000  9.828185  0.020808\n",
              "1  1099511627891  311.000000        0.452518  ...   0.340365  9.787368  0.001842\n",
              "2   962072674446  142.807999        0.018542  ...   2.050000  9.447924 -0.014509\n",
              "3  1142461300867  171.205292       -0.290698  ...  17.608448  8.842753  0.048700\n",
              "5  1176821039217  277.000000        0.268151  ...   1.053419  9.190048  0.002531\n",
              "\n",
              "[5 rows x 12 columns]"
            ]
          },
          "metadata": {
            "tags": []
          },
          "execution_count": 23
        }
      ]
    },
    {
      "cell_type": "code",
      "metadata": {
        "id": "jKlQIpHNtklC",
        "colab_type": "code",
        "colab": {
          "base_uri": "https://localhost:8080/",
          "height": 204
        },
        "outputId": "116a7662-de5f-4979-f97c-97a0286bfac9"
      },
      "source": [
        "tele_data.drop(['acceleration_x','acceleration_y','acceleration_z','gyro_x','gyro_y','gyro_z'], axis=1, inplace=True)\n",
        "tele_data.head()"
      ],
      "execution_count": 24,
      "outputs": [
        {
          "output_type": "execute_result",
          "data": {
            "text/html": [
              "<div>\n",
              "<style scoped>\n",
              "    .dataframe tbody tr th:only-of-type {\n",
              "        vertical-align: middle;\n",
              "    }\n",
              "\n",
              "    .dataframe tbody tr th {\n",
              "        vertical-align: top;\n",
              "    }\n",
              "\n",
              "    .dataframe thead th {\n",
              "        text-align: right;\n",
              "    }\n",
              "</style>\n",
              "<table border=\"1\" class=\"dataframe\">\n",
              "  <thead>\n",
              "    <tr style=\"text-align: right;\">\n",
              "      <th></th>\n",
              "      <th>bookingID</th>\n",
              "      <th>Bearing</th>\n",
              "      <th>second</th>\n",
              "      <th>Speed</th>\n",
              "      <th>acc</th>\n",
              "      <th>pca_gyro</th>\n",
              "    </tr>\n",
              "  </thead>\n",
              "  <tbody>\n",
              "    <tr>\n",
              "      <th>0</th>\n",
              "      <td>1194000908341</td>\n",
              "      <td>203.000000</td>\n",
              "      <td>246.0</td>\n",
              "      <td>6.480000</td>\n",
              "      <td>9.828185</td>\n",
              "      <td>0.020808</td>\n",
              "    </tr>\n",
              "    <tr>\n",
              "      <th>1</th>\n",
              "      <td>1099511627891</td>\n",
              "      <td>311.000000</td>\n",
              "      <td>66.0</td>\n",
              "      <td>0.340365</td>\n",
              "      <td>9.787368</td>\n",
              "      <td>0.001842</td>\n",
              "    </tr>\n",
              "    <tr>\n",
              "      <th>2</th>\n",
              "      <td>962072674446</td>\n",
              "      <td>142.807999</td>\n",
              "      <td>1552.0</td>\n",
              "      <td>2.050000</td>\n",
              "      <td>9.447924</td>\n",
              "      <td>-0.014509</td>\n",
              "    </tr>\n",
              "    <tr>\n",
              "      <th>3</th>\n",
              "      <td>1142461300867</td>\n",
              "      <td>171.205292</td>\n",
              "      <td>277.0</td>\n",
              "      <td>17.608448</td>\n",
              "      <td>8.842753</td>\n",
              "      <td>0.048700</td>\n",
              "    </tr>\n",
              "    <tr>\n",
              "      <th>5</th>\n",
              "      <td>1176821039217</td>\n",
              "      <td>277.000000</td>\n",
              "      <td>56.0</td>\n",
              "      <td>1.053419</td>\n",
              "      <td>9.190048</td>\n",
              "      <td>0.002531</td>\n",
              "    </tr>\n",
              "  </tbody>\n",
              "</table>\n",
              "</div>"
            ],
            "text/plain": [
              "       bookingID     Bearing  second      Speed       acc  pca_gyro\n",
              "0  1194000908341  203.000000   246.0   6.480000  9.828185  0.020808\n",
              "1  1099511627891  311.000000    66.0   0.340365  9.787368  0.001842\n",
              "2   962072674446  142.807999  1552.0   2.050000  9.447924 -0.014509\n",
              "3  1142461300867  171.205292   277.0  17.608448  8.842753  0.048700\n",
              "5  1176821039217  277.000000    56.0   1.053419  9.190048  0.002531"
            ]
          },
          "metadata": {
            "tags": []
          },
          "execution_count": 24
        }
      ]
    },
    {
      "cell_type": "markdown",
      "metadata": {
        "id": "Yha24jWk2a9G",
        "colab_type": "text"
      },
      "source": [
        "## Generate Features"
      ]
    },
    {
      "cell_type": "code",
      "metadata": {
        "id": "ZpjALn6RscDF",
        "colab_type": "code",
        "colab": {
          "base_uri": "https://localhost:8080/",
          "height": 255
        },
        "outputId": "41ad3c2d-224d-4ac9-e1f6-e9a787dab61b"
      },
      "source": [
        "data_p = pd.DataFrame()\n",
        "for col in tele_data.columns:\n",
        "    if col != \"bookingID\":\n",
        "        temp = tele_data.groupby(\"bookingID\")[col].agg(['mean', 'sum', 'max', 'min', 'std'])\n",
        "        data_p[col + \"_mean\"] = temp[\"mean\"]\n",
        "        data_p[col + \"_sum\"] = temp[\"sum\"]\n",
        "        data_p[col + \"_max\"] = temp[\"max\"]\n",
        "        data_p[col + \"_min\"] = temp[\"min\"]\n",
        "        data_p[col + \"_std\"] = temp[\"std\"]\n",
        "data_p.head()"
      ],
      "execution_count": 25,
      "outputs": [
        {
          "output_type": "execute_result",
          "data": {
            "text/html": [
              "<div>\n",
              "<style scoped>\n",
              "    .dataframe tbody tr th:only-of-type {\n",
              "        vertical-align: middle;\n",
              "    }\n",
              "\n",
              "    .dataframe tbody tr th {\n",
              "        vertical-align: top;\n",
              "    }\n",
              "\n",
              "    .dataframe thead th {\n",
              "        text-align: right;\n",
              "    }\n",
              "</style>\n",
              "<table border=\"1\" class=\"dataframe\">\n",
              "  <thead>\n",
              "    <tr style=\"text-align: right;\">\n",
              "      <th></th>\n",
              "      <th>Bearing_mean</th>\n",
              "      <th>Bearing_sum</th>\n",
              "      <th>Bearing_max</th>\n",
              "      <th>Bearing_min</th>\n",
              "      <th>Bearing_std</th>\n",
              "      <th>second_mean</th>\n",
              "      <th>second_sum</th>\n",
              "      <th>second_max</th>\n",
              "      <th>second_min</th>\n",
              "      <th>second_std</th>\n",
              "      <th>Speed_mean</th>\n",
              "      <th>Speed_sum</th>\n",
              "      <th>Speed_max</th>\n",
              "      <th>Speed_min</th>\n",
              "      <th>Speed_std</th>\n",
              "      <th>acc_mean</th>\n",
              "      <th>acc_sum</th>\n",
              "      <th>acc_max</th>\n",
              "      <th>acc_min</th>\n",
              "      <th>acc_std</th>\n",
              "      <th>pca_gyro_mean</th>\n",
              "      <th>pca_gyro_sum</th>\n",
              "      <th>pca_gyro_max</th>\n",
              "      <th>pca_gyro_min</th>\n",
              "      <th>pca_gyro_std</th>\n",
              "    </tr>\n",
              "    <tr>\n",
              "      <th>bookingID</th>\n",
              "      <th></th>\n",
              "      <th></th>\n",
              "      <th></th>\n",
              "      <th></th>\n",
              "      <th></th>\n",
              "      <th></th>\n",
              "      <th></th>\n",
              "      <th></th>\n",
              "      <th></th>\n",
              "      <th></th>\n",
              "      <th></th>\n",
              "      <th></th>\n",
              "      <th></th>\n",
              "      <th></th>\n",
              "      <th></th>\n",
              "      <th></th>\n",
              "      <th></th>\n",
              "      <th></th>\n",
              "      <th></th>\n",
              "      <th></th>\n",
              "      <th></th>\n",
              "      <th></th>\n",
              "      <th></th>\n",
              "      <th></th>\n",
              "      <th></th>\n",
              "    </tr>\n",
              "  </thead>\n",
              "  <tbody>\n",
              "    <tr>\n",
              "      <th>0</th>\n",
              "      <td>176.311276</td>\n",
              "      <td>176663.898315</td>\n",
              "      <td>359.979767</td>\n",
              "      <td>0.037464</td>\n",
              "      <td>129.270716</td>\n",
              "      <td>902.936128</td>\n",
              "      <td>904742.0</td>\n",
              "      <td>1589.0</td>\n",
              "      <td>0.0</td>\n",
              "      <td>534.113894</td>\n",
              "      <td>9.003204</td>\n",
              "      <td>9021.210626</td>\n",
              "      <td>22.946083</td>\n",
              "      <td>0.064309</td>\n",
              "      <td>7.200000</td>\n",
              "      <td>9.883337</td>\n",
              "      <td>9903.103489</td>\n",
              "      <td>12.988328</td>\n",
              "      <td>6.457339</td>\n",
              "      <td>0.619492</td>\n",
              "      <td>-0.006636</td>\n",
              "      <td>-6.649271</td>\n",
              "      <td>0.483770</td>\n",
              "      <td>-0.617404</td>\n",
              "      <td>0.099027</td>\n",
              "    </tr>\n",
              "    <tr>\n",
              "      <th>1</th>\n",
              "      <td>126.125298</td>\n",
              "      <td>105693.000000</td>\n",
              "      <td>337.000000</td>\n",
              "      <td>5.000000</td>\n",
              "      <td>89.202934</td>\n",
              "      <td>581.681384</td>\n",
              "      <td>487449.0</td>\n",
              "      <td>1034.0</td>\n",
              "      <td>0.0</td>\n",
              "      <td>289.129088</td>\n",
              "      <td>8.019369</td>\n",
              "      <td>6720.231233</td>\n",
              "      <td>21.882141</td>\n",
              "      <td>0.000000</td>\n",
              "      <td>7.025981</td>\n",
              "      <td>9.865608</td>\n",
              "      <td>8267.379838</td>\n",
              "      <td>12.790147</td>\n",
              "      <td>6.970526</td>\n",
              "      <td>0.522142</td>\n",
              "      <td>-0.006912</td>\n",
              "      <td>-5.792044</td>\n",
              "      <td>0.465017</td>\n",
              "      <td>-0.658963</td>\n",
              "      <td>0.090786</td>\n",
              "    </tr>\n",
              "    <tr>\n",
              "      <th>2</th>\n",
              "      <td>173.794872</td>\n",
              "      <td>33890.000000</td>\n",
              "      <td>354.000000</td>\n",
              "      <td>1.000000</td>\n",
              "      <td>119.316520</td>\n",
              "      <td>339.441026</td>\n",
              "      <td>66191.0</td>\n",
              "      <td>825.0</td>\n",
              "      <td>0.0</td>\n",
              "      <td>356.319445</td>\n",
              "      <td>3.157213</td>\n",
              "      <td>615.656528</td>\n",
              "      <td>9.360483</td>\n",
              "      <td>0.000000</td>\n",
              "      <td>2.897762</td>\n",
              "      <td>9.929590</td>\n",
              "      <td>1936.270054</td>\n",
              "      <td>13.403410</td>\n",
              "      <td>8.234988</td>\n",
              "      <td>0.515173</td>\n",
              "      <td>-0.012811</td>\n",
              "      <td>-2.498204</td>\n",
              "      <td>0.433942</td>\n",
              "      <td>-0.462356</td>\n",
              "      <td>0.117118</td>\n",
              "    </tr>\n",
              "    <tr>\n",
              "      <th>4</th>\n",
              "      <td>151.807013</td>\n",
              "      <td>166076.872711</td>\n",
              "      <td>353.855377</td>\n",
              "      <td>2.271227</td>\n",
              "      <td>71.273774</td>\n",
              "      <td>547.495430</td>\n",
              "      <td>598960.0</td>\n",
              "      <td>1094.0</td>\n",
              "      <td>0.0</td>\n",
              "      <td>315.962793</td>\n",
              "      <td>6.150996</td>\n",
              "      <td>6729.190006</td>\n",
              "      <td>19.780001</td>\n",
              "      <td>0.000000</td>\n",
              "      <td>5.595901</td>\n",
              "      <td>9.813434</td>\n",
              "      <td>10735.897309</td>\n",
              "      <td>21.053265</td>\n",
              "      <td>7.703982</td>\n",
              "      <td>0.620066</td>\n",
              "      <td>0.022378</td>\n",
              "      <td>24.481480</td>\n",
              "      <td>0.654154</td>\n",
              "      <td>-0.512283</td>\n",
              "      <td>0.112631</td>\n",
              "    </tr>\n",
              "    <tr>\n",
              "      <th>6</th>\n",
              "      <td>197.812785</td>\n",
              "      <td>216605.000000</td>\n",
              "      <td>359.000000</td>\n",
              "      <td>0.000000</td>\n",
              "      <td>111.868249</td>\n",
              "      <td>547.000000</td>\n",
              "      <td>598965.0</td>\n",
              "      <td>1094.0</td>\n",
              "      <td>0.0</td>\n",
              "      <td>316.243577</td>\n",
              "      <td>4.628921</td>\n",
              "      <td>5068.669039</td>\n",
              "      <td>16.394695</td>\n",
              "      <td>0.000000</td>\n",
              "      <td>5.314844</td>\n",
              "      <td>9.918090</td>\n",
              "      <td>10860.308906</td>\n",
              "      <td>14.498268</td>\n",
              "      <td>7.218154</td>\n",
              "      <td>0.585346</td>\n",
              "      <td>0.000420</td>\n",
              "      <td>0.460174</td>\n",
              "      <td>0.539158</td>\n",
              "      <td>-0.622273</td>\n",
              "      <td>0.106477</td>\n",
              "    </tr>\n",
              "  </tbody>\n",
              "</table>\n",
              "</div>"
            ],
            "text/plain": [
              "           Bearing_mean    Bearing_sum  ...  pca_gyro_min  pca_gyro_std\n",
              "bookingID                               ...                            \n",
              "0            176.311276  176663.898315  ...     -0.617404      0.099027\n",
              "1            126.125298  105693.000000  ...     -0.658963      0.090786\n",
              "2            173.794872   33890.000000  ...     -0.462356      0.117118\n",
              "4            151.807013  166076.872711  ...     -0.512283      0.112631\n",
              "6            197.812785  216605.000000  ...     -0.622273      0.106477\n",
              "\n",
              "[5 rows x 25 columns]"
            ]
          },
          "metadata": {
            "tags": []
          },
          "execution_count": 25
        }
      ]
    },
    {
      "cell_type": "code",
      "metadata": {
        "id": "z0gnYgXNw40g",
        "colab_type": "code",
        "colab": {
          "base_uri": "https://localhost:8080/",
          "height": 34
        },
        "outputId": "17771d24-9d3a-42c2-8e22-451775cc402b"
      },
      "source": [
        "len(data_p)"
      ],
      "execution_count": 26,
      "outputs": [
        {
          "output_type": "execute_result",
          "data": {
            "text/plain": [
              "19934"
            ]
          },
          "metadata": {
            "tags": []
          },
          "execution_count": 26
        }
      ]
    },
    {
      "cell_type": "markdown",
      "metadata": {
        "id": "RGy7Nf64IuZR",
        "colab_type": "text"
      },
      "source": [
        "# Tree-based models to select features\n",
        "* \"dt\": DecisionTreeRegressor(),\n",
        "* \"rf\": RandomForestRegressor(),\n",
        "* \"ada\": AdaBoostRegressor(),\n",
        "* \"gb\": GradientBoostingRegressor(),\n",
        "* \"et\": ExtraTreesRegressor(),\n",
        "* \"xgb\": XGBRegressor(),\n",
        "* \"lgb\": LGBMRegressor()\n",
        "\n",
        "# Linear-based models to select features\n",
        "* \"en\": ElasticNet(),\n",
        "* \"hr\": HuberRegressor(),\n",
        "* \"lr\": LinearRegression(),\n",
        "* \"ridge\": Ridge(),\n",
        "* \"lasso\": Lasso(),\n",
        "* \"sgd\": SGDRegressor(), \n",
        "* \"pa\": PassiveAggressiveRegressor()"
      ]
    },
    {
      "cell_type": "code",
      "metadata": {
        "id": "eDdlBO5rIuZZ",
        "colab_type": "code",
        "outputId": "bf0039bd-3adf-459f-ef55-195b3b71b8b4",
        "colab": {
          "base_uri": "https://localhost:8080/",
          "height": 34
        }
      },
      "source": [
        "label.shape"
      ],
      "execution_count": 27,
      "outputs": [
        {
          "output_type": "execute_result",
          "data": {
            "text/plain": [
              "(19982, 2)"
            ]
          },
          "metadata": {
            "tags": []
          },
          "execution_count": 27
        }
      ]
    },
    {
      "cell_type": "markdown",
      "metadata": {
        "id": "5nwzar6a2UvU",
        "colab_type": "text"
      },
      "source": [
        "# Evaluation\n",
        "\n",
        "\n",
        "*   ROC Curves and Area Under the Curve(AUC)\n",
        "*   ROC more curve is better - Purpose of AUC\n",
        "*   AUC is close to 0.5 (random guessing). AUC is close to 1 (perfect classifier)\n"
      ]
    },
    {
      "cell_type": "code",
      "metadata": {
        "id": "d3AnjY9hIuZc",
        "colab_type": "code",
        "colab": {}
      },
      "source": [
        ""
      ],
      "execution_count": 0,
      "outputs": []
    }
  ]
}